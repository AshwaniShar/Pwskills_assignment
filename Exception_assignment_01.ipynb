{
 "cells": [
  {
   "cell_type": "code",
   "execution_count": 1,
   "id": "a62c6eec-8740-42bf-aec0-3f70332b9cb1",
   "metadata": {},
   "outputs": [],
   "source": [
    "#exception assignment\n"
   ]
  },
  {
   "cell_type": "code",
   "execution_count": 2,
   "id": "04a2e1bf-ce1c-4e97-8387-4ba1b435d62c",
   "metadata": {},
   "outputs": [
    {
     "data": {
      "text/plain": [
       "'exception handling\\n---------------------------\\n\\nwhen an error occurs, or exception as we call it, python\\nwill normally stop and generate an error massge\\n\\nthese exceptions can be handle using try statement\\n\\n\\nDifference between exception and syntax error\\n-----------------------------------------------------\\n\\nwhen an error occurs, or exception as we call it, python\\nwill normally stop and generate an error massge but in the \\nsyntax errors is invalid function calling or difining.\\n'"
      ]
     },
     "execution_count": 2,
     "metadata": {},
     "output_type": "execute_result"
    }
   ],
   "source": [
    "#solution 01:\n",
    "\n",
    "\"\"\"exception handling\n",
    "---------------------------\n",
    "\n",
    "when an error occurs, or exception as we call it, python\n",
    "will normally stop and generate an error massge\n",
    "\n",
    "these exceptions can be handle using try statement\n",
    "\n",
    "\n",
    "Difference between exception and syntax error\n",
    "-----------------------------------------------------\n",
    "\n",
    "when an error occurs, or exception as we call it, python\n",
    "will normally stop and generate an error massge but in the \n",
    "syntax errors is invalid function calling or difining.\n",
    "\"\"\""
   ]
  },
  {
   "cell_type": "code",
   "execution_count": 3,
   "id": "e9cc31a8-4ab8-4639-8b5d-dd76d9c618d6",
   "metadata": {},
   "outputs": [
    {
     "ename": "ZeroDivisionError",
     "evalue": "division by zero",
     "output_type": "error",
     "traceback": [
      "\u001b[0;31m---------------------------------------------------------------------------\u001b[0m",
      "\u001b[0;31mZeroDivisionError\u001b[0m                         Traceback (most recent call last)",
      "Cell \u001b[0;32mIn[3], line 9\u001b[0m\n\u001b[1;32m      3\u001b[0m \u001b[38;5;124;03m\"\"\"An exception is an issue (run time error) occurred during \u001b[39;00m\n\u001b[1;32m      4\u001b[0m \u001b[38;5;124;03mthe execution of a program\"\"\u001b[39;00m\n\u001b[1;32m      5\u001b[0m \n\u001b[1;32m      6\u001b[0m \u001b[38;5;124;03m\"\"\"\u001b[39;00m\n\u001b[1;32m      8\u001b[0m a\u001b[38;5;241m=\u001b[39m\u001b[38;5;241m5\u001b[39m\n\u001b[0;32m----> 9\u001b[0m \u001b[43ma\u001b[49m\u001b[38;5;241;43m/\u001b[39;49m\u001b[38;5;241;43m0\u001b[39;49m\n",
      "\u001b[0;31mZeroDivisionError\u001b[0m: division by zero"
     ]
    }
   ],
   "source": [
    "#solution 2:\n",
    "\n",
    "\"\"\"An exception is an issue (run time error) occurred during \n",
    "the execution of a program\"\"\n",
    "\n",
    "\"\"\"\n",
    "\n",
    "a=5\n",
    "a/0"
   ]
  },
  {
   "cell_type": "code",
   "execution_count": 5,
   "id": "1ba39a09-2f14-460f-8c0f-64253ea51be9",
   "metadata": {},
   "outputs": [
    {
     "name": "stdout",
     "output_type": "stream",
     "text": [
      "Second element = 2\n",
      "An error occurred\n"
     ]
    }
   ],
   "source": [
    "#solution 3:\n",
    "\n",
    "\"\"\"\n",
    "Exceptions are raised when the program is syntactically\n",
    "correct, but the code resulted in an error. This error \n",
    "does not stop the execution of the program, however, it \n",
    "changes the normal flow of the program.\"\"\"\n",
    "\n",
    "\n",
    "\n",
    "a = [1, 2, 3]\n",
    "try:\n",
    "\tprint (\"Second element = %d\" %(a[1]))\n",
    "\n",
    "\tprint (\"Fourth element = %d\" %(a[3]))\n",
    "\n",
    "except:\n",
    "\tprint (\"An error occurred\")\n"
   ]
  },
  {
   "cell_type": "code",
   "execution_count": 7,
   "id": "cc17fd4c-14bd-476b-aec1-00e6c4eef182",
   "metadata": {},
   "outputs": [],
   "source": [
    "#solution 4(a):\n",
    "\n",
    "try:\n",
    "    f=open(\"test1.txt\",\"w\")\n",
    "    f.write(\"write into my file\")\n",
    "\n",
    "except Exception as e:\n",
    "    print(\"this is my expect block\",e)\n",
    "else:\n",
    "        f.flush()\n",
    "        "
   ]
  },
  {
   "cell_type": "code",
   "execution_count": 8,
   "id": "752e4e91-5bfa-497e-aeaa-f5cc4ff67d8d",
   "metadata": {},
   "outputs": [
    {
     "name": "stdout",
     "output_type": "stream",
     "text": [
      "finally will execute itself in any situation\n"
     ]
    },
    {
     "ename": "UnsupportedOperation",
     "evalue": "not writable",
     "output_type": "error",
     "traceback": [
      "\u001b[0;31m---------------------------------------------------------------------------\u001b[0m",
      "\u001b[0;31mUnsupportedOperation\u001b[0m                      Traceback (most recent call last)",
      "Cell \u001b[0;32mIn[8], line 5\u001b[0m\n\u001b[1;32m      3\u001b[0m \u001b[38;5;28;01mtry\u001b[39;00m:\n\u001b[1;32m      4\u001b[0m     f\u001b[38;5;241m=\u001b[39m\u001b[38;5;28mopen\u001b[39m(\u001b[38;5;124m\"\u001b[39m\u001b[38;5;124mtext3.txt\u001b[39m\u001b[38;5;124m\"\u001b[39m,\u001b[38;5;124m\"\u001b[39m\u001b[38;5;124mr\u001b[39m\u001b[38;5;124m\"\u001b[39m)\n\u001b[0;32m----> 5\u001b[0m     \u001b[43mf\u001b[49m\u001b[38;5;241;43m.\u001b[39;49m\u001b[43mwrite\u001b[49m\u001b[43m(\u001b[49m\u001b[38;5;124;43m\"\u001b[39;49m\u001b[38;5;124;43mwrite something\u001b[39;49m\u001b[38;5;124;43m\"\u001b[39;49m\u001b[43m)\u001b[49m\n\u001b[1;32m      6\u001b[0m \u001b[38;5;28;01mfinally\u001b[39;00m:\n\u001b[1;32m      7\u001b[0m     \u001b[38;5;28mprint\u001b[39m(\u001b[38;5;124m\"\u001b[39m\u001b[38;5;124mfinally will execute itself in any situation\u001b[39m\u001b[38;5;124m\"\u001b[39m)\n",
      "\u001b[0;31mUnsupportedOperation\u001b[0m: not writable"
     ]
    }
   ],
   "source": [
    "#solution 4(b):\n",
    "\n",
    "try:\n",
    "    f=open(\"text3.txt\",\"r\")\n",
    "    f.write(\"write something\")\n",
    "finally:\n",
    "    print(\"finally will execute itself in any situation\")"
   ]
  },
  {
   "cell_type": "code",
   "execution_count": 9,
   "id": "3c230319-690f-4f43-a3cc-5c06c10f3564",
   "metadata": {},
   "outputs": [],
   "source": [
    "#solution 4(c):\n",
    "\n",
    "def validateage(age):\n",
    "    if age < 0:\n",
    "        raise validateage(\"enter age is not accepted\")\n",
    "    elif age > 200:\n",
    "        raise validateage(\"entered age is too high\")\n",
    "    else:\n",
    "        print(\"age accepted\")"
   ]
  },
  {
   "cell_type": "code",
   "execution_count": 10,
   "id": "3b1b8e46-bb81-453b-a496-d1a690b58063",
   "metadata": {},
   "outputs": [
    {
     "name": "stdin",
     "output_type": "stream",
     "text": [
      "Enter a number:  5\n"
     ]
    },
    {
     "name": "stdout",
     "output_type": "stream",
     "text": [
      "Exception occurred: Invalid Age\n"
     ]
    }
   ],
   "source": [
    "#solution 5:\n",
    "\n",
    "\"\"\"\n",
    "we can define custom exceptions by creating a\n",
    "new class that is derived from the built-in \n",
    "Exception class.\"\"\"\n",
    "\n",
    "\n",
    "class InvalidAgeException(Exception):\n",
    "    \"Raised when the input value is less than 18\"\n",
    "    pass\n",
    "\n",
    "number = 18\n",
    "\n",
    "try:\n",
    "    input_num = int(input(\"Enter a number: \"))\n",
    "    if input_num < number:\n",
    "        raise InvalidAgeException\n",
    "    else:\n",
    "        print(\"Eligible to Vote\")\n",
    "        \n",
    "except InvalidAgeException:\n",
    "    print(\"Exception occurred: Invalid Age\")"
   ]
  },
  {
   "cell_type": "code",
   "execution_count": 11,
   "id": "8bcf201a-d174-466d-9b63-47cd1be9066d",
   "metadata": {},
   "outputs": [],
   "source": [
    "#solution 6:\n",
    "\n",
    "class validateage(Exception):\n",
    "    \n",
    "    def __init__(self,msg):\n",
    "        self.msg=msg"
   ]
  },
  {
   "cell_type": "code",
   "execution_count": 12,
   "id": "c6bad9cc-595b-4086-98fb-908014756752",
   "metadata": {},
   "outputs": [],
   "source": [
    "def validateage(age):\n",
    "    if age < 0:\n",
    "        raise validateage(\"enter age is not accepted\")\n",
    "    elif age > 200:\n",
    "        raise validateage(\"entered age is too high\")\n",
    "    else:\n",
    "        print(\"age accepted\")"
   ]
  },
  {
   "cell_type": "code",
   "execution_count": 15,
   "id": "4a16aeac-31f3-45b6-b123-0756d08a13cc",
   "metadata": {},
   "outputs": [
    {
     "name": "stdin",
     "output_type": "stream",
     "text": [
      "enter age :  50\n"
     ]
    },
    {
     "name": "stdout",
     "output_type": "stream",
     "text": [
      "age accepted\n"
     ]
    }
   ],
   "source": [
    "try:\n",
    "    age=int(input(\"enter age : \"))\n",
    "    validateage(age)\n",
    "except validateage as e:\n",
    "    print(e)"
   ]
  },
  {
   "cell_type": "code",
   "execution_count": null,
   "id": "3704543a-7522-4624-8b28-822327a30c06",
   "metadata": {},
   "outputs": [],
   "source": []
  }
 ],
 "metadata": {
  "kernelspec": {
   "display_name": "Python 3 (ipykernel)",
   "language": "python",
   "name": "python3"
  },
  "language_info": {
   "codemirror_mode": {
    "name": "ipython",
    "version": 3
   },
   "file_extension": ".py",
   "mimetype": "text/x-python",
   "name": "python",
   "nbconvert_exporter": "python",
   "pygments_lexer": "ipython3",
   "version": "3.10.8"
  }
 },
 "nbformat": 4,
 "nbformat_minor": 5
}
