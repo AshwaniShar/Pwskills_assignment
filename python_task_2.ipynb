{
 "cells": [
  {
   "cell_type": "code",
   "execution_count": 4,
   "id": "b537fb3a-26ac-460f-96ab-67c96bfd5b53",
   "metadata": {},
   "outputs": [],
   "source": [
    "#python Task 2:"
   ]
  },
  {
   "cell_type": "code",
   "execution_count": 3,
   "id": "a3536716-e0a2-4cb5-8fe0-8876bec4d306",
   "metadata": {},
   "outputs": [
    {
     "name": "stdin",
     "output_type": "stream",
     "text": [
      "Input your password Ashwani@123\n"
     ]
    },
    {
     "name": "stdout",
     "output_type": "stream",
     "text": [
      "Valid Password\n"
     ]
    }
   ],
   "source": [
    "#solution 1:\n",
    "\n",
    "import re\n",
    "p= input(\"Input your password\")\n",
    "x = True\n",
    "while x:  \n",
    "    if (len(p)<6 or len(p)>12):\n",
    "        break\n",
    "    elif not re.search(\"[a-z]\",p):\n",
    "        break\n",
    "    elif not re.search(\"[0-9]\",p):\n",
    "        break\n",
    "    elif not re.search(\"[A-Z]\",p):\n",
    "        break\n",
    "    elif not re.search(\"[$#@]\",p):\n",
    "        break\n",
    "    elif re.search(\"\\s\",p):\n",
    "        break\n",
    "    else:\n",
    "        print(\"Valid Password\")\n",
    "        x=False\n",
    "        break\n",
    "\n",
    "if x:\n",
    "    print(\"Not a Valid Password\")"
   ]
  },
  {
   "cell_type": "code",
   "execution_count": 5,
   "id": "e449ab70-c35f-4965-8926-9c322b1018ab",
   "metadata": {},
   "outputs": [],
   "source": [
    "#solution 2:\n",
    "\n"
   ]
  },
  {
   "cell_type": "code",
   "execution_count": 7,
   "id": "45d1de7c-d08a-4a14-870c-f091c070c602",
   "metadata": {},
   "outputs": [
    {
     "data": {
      "text/plain": [
       "True"
      ]
     },
     "execution_count": 7,
     "metadata": {},
     "output_type": "execute_result"
    }
   ],
   "source": [
    "#Check if the string starts with a particular letter\n",
    "\n",
    "text= \"Pwskills\"\n",
    "\n",
    "\n",
    "filter_words=map(lambda x: x[0]==\"P\", text)\n",
    "next(filter_words)"
   ]
  },
  {
   "cell_type": "code",
   "execution_count": 8,
   "id": "8d0e9d65-9bed-4847-b87f-36ae7d170aa7",
   "metadata": {},
   "outputs": [
    {
     "data": {
      "text/plain": [
       "False"
      ]
     },
     "execution_count": 8,
     "metadata": {},
     "output_type": "execute_result"
    }
   ],
   "source": [
    "#cheking with diffrent word same function\n",
    "text1= \"UpGrad\"\n",
    "filter_words=map(lambda x: x[0]==\"P\", text1)\n",
    "next(filter_words)"
   ]
  },
  {
   "cell_type": "code",
   "execution_count": 9,
   "id": "9b416777-3b27-4c4f-8b4d-5ae3fee8fb60",
   "metadata": {},
   "outputs": [
    {
     "name": "stdout",
     "output_type": "stream",
     "text": [
      "PomPom\n",
      "Pomotion\n"
     ]
    }
   ],
   "source": [
    "# checking with a list of string \n",
    "list1=[\"PomPom\", \"Pomotion\", \"Good\", \"Baad\"]\n",
    "filter_words_list=filter(lambda x: x[0]==\"P\", list1)\n",
    "for i in filter_words_list:\n",
    "    print(i)"
   ]
  },
  {
   "cell_type": "code",
   "execution_count": 10,
   "id": "95fba414-dea3-41fd-80e7-b581243be455",
   "metadata": {},
   "outputs": [
    {
     "data": {
      "text/plain": [
       "True"
      ]
     },
     "execution_count": 10,
     "metadata": {},
     "output_type": "execute_result"
    }
   ],
   "source": [
    "# Check if the string is numeric¶\n",
    "\n",
    "text3=\"123456\"\n",
    "filter_number =map(lambda x: x.isdigit(), text3)\n",
    "next(filter_number)"
   ]
  },
  {
   "cell_type": "code",
   "execution_count": 11,
   "id": "94371295-d139-4fb6-a6ef-16f760ca83fa",
   "metadata": {},
   "outputs": [
    {
     "name": "stdout",
     "output_type": "stream",
     "text": [
      "True\n",
      "False\n",
      "True\n",
      "False\n"
     ]
    }
   ],
   "source": [
    "# checking with a list of string\n",
    "list2=[\"1234\", \"a123\", \"223\", \"3234a\"]\n",
    "filter_number1 =map(lambda x: x.isdigit(), list2)\n",
    "for i in filter_number1:\n",
    "    print(i)"
   ]
  },
  {
   "cell_type": "code",
   "execution_count": 13,
   "id": "68c2a3a9-f94e-486a-a2c5-08c175854616",
   "metadata": {},
   "outputs": [
    {
     "name": "stdout",
     "output_type": "stream",
     "text": [
      "ascending sort::::::\n",
      " [('orange', 80), ('mango', 99), ('grapes', 1000)] \n",
      "\n",
      "--------------------------------------------------------------------------------\n",
      "\n",
      "descending sort::::::\n",
      " [('grapes', 1000), ('mango', 99), ('orange', 80)]\n"
     ]
    }
   ],
   "source": [
    "#Sort a list of tuples having fruit names and their quantity. [(\"mango\",99),(\"orange\",80), (\"grapes\", 1000)]\n",
    "list3=[(\"mango\",99),(\"orange\",80), (\"grapes\", 1000)]\n",
    "\n",
    "print(\"ascending sort::::::\\n\", sorted(list3, key=lambda x: x[1]), \"\\n\" )\n",
    "print(80*\"-\")\n",
    "print()\n",
    "print(\"descending sort::::::\\n\", sorted(list3, key=lambda x: x[1], reverse=True) )"
   ]
  },
  {
   "cell_type": "code",
   "execution_count": 15,
   "id": "037cab66-7779-4829-96ed-ab8691e7954c",
   "metadata": {},
   "outputs": [
    {
     "data": {
      "text/plain": [
       "[1, 4, 9, 16, 25, 36, 49, 64, 81, 100]"
      ]
     },
     "execution_count": 15,
     "metadata": {},
     "output_type": "execute_result"
    }
   ],
   "source": [
    "#Find the squares of numbers from 1 to 10Y\n",
    "\n",
    "list4=[1,2,3,4,5,6,7,8,9,10] \n",
    "\n",
    "sql_list1=map(lambda x: x**2, list4) \n",
    "\n",
    "[i for i in sql_list1]"
   ]
  },
  {
   "cell_type": "code",
   "execution_count": 16,
   "id": "883c2a4a-2052-40d3-8bfb-f0e3aeebd0f8",
   "metadata": {},
   "outputs": [
    {
     "data": {
      "text/plain": [
       "[1, 8, 27, 64, 125, 216, 343, 512, 729, 1000]"
      ]
     },
     "execution_count": 16,
     "metadata": {},
     "output_type": "execute_result"
    }
   ],
   "source": [
    "# Find the cube root of numbers from 1 to 10\n",
    "\n",
    "sql_list2=map(lambda x: x**3, list4)\n",
    "\n",
    "[i for i in sql_list2]"
   ]
  },
  {
   "cell_type": "code",
   "execution_count": 17,
   "id": "87406705-0940-48f0-bf24-0fe4c140db47",
   "metadata": {},
   "outputs": [
    {
     "name": "stdin",
     "output_type": "stream",
     "text": [
      "enter the number\n",
      " 1\n"
     ]
    },
    {
     "name": "stdout",
     "output_type": "stream",
     "text": [
      "\n",
      "1  is a  odd number\n"
     ]
    }
   ],
   "source": [
    "# Check if a given number is even\n",
    "\n",
    "n=[]\n",
    "num= int(input(\"enter the number\\n\")) \n",
    "print()\n",
    "n.append(num)\n",
    "x=map(lambda y: \"even\" if y%2==0 else \"odd\", n)\n",
    "\n",
    "for i in x:\n",
    "    print(num, \" is a \", i, \"number\")"
   ]
  },
  {
   "cell_type": "code",
   "execution_count": 18,
   "id": "a12c10d4-7fa6-4fc3-b4c3-3d151c82dd5f",
   "metadata": {},
   "outputs": [
    {
     "name": "stdout",
     "output_type": "stream",
     "text": [
      "The Odd Numbers are:::\n"
     ]
    },
    {
     "data": {
      "text/plain": [
       "[1, 3, 5, 7, 9]"
      ]
     },
     "execution_count": 18,
     "metadata": {},
     "output_type": "execute_result"
    }
   ],
   "source": [
    "# Filter odd numbers from the given list. [1,2,3,4,5,6,7,8,9,10]\n",
    "\n",
    "\n",
    "l10=[1,2,3,4,5,6,7,8,9,10]\n",
    "print(\"The Odd Numbers are:::\")\n",
    "[i for i in filter(lambda x: x%2 !=0, l10)]"
   ]
  },
  {
   "cell_type": "code",
   "execution_count": 19,
   "id": "a3cf4270-5b44-471b-853d-b63b3ae9b588",
   "metadata": {},
   "outputs": [
    {
     "name": "stdout",
     "output_type": "stream",
     "text": [
      "[0, 1, 2, 3, 4, 5, 6]\n",
      "[-5, -4, -3, -2, -1]\n"
     ]
    }
   ],
   "source": [
    "#Sort a list of integers into positive and negative integers lists.[1,2,3,4,5,6,-1,-2,-3,-4,-5,0]\n",
    "\n",
    "\n",
    "\n",
    "def seperation():\n",
    "    list_x=[1,2,3,4,5,6,-1,-2,-3,-4,-5,0]\n",
    "    positive_num=sorted([i for i in filter(lambda x: x>=0, list_x)]) #filter the positive number\n",
    "    negative_num=sorted([i for i in filter(lambda x: x<0, list_x)]) #filter the negative number \n",
    "    \n",
    "    print(positive_num)\n",
    "    print(negative_num)\n",
    "seperation()"
   ]
  },
  {
   "cell_type": "code",
   "execution_count": null,
   "id": "a97344b9-d0b2-408d-b691-300d2b3bbb44",
   "metadata": {},
   "outputs": [],
   "source": []
  }
 ],
 "metadata": {
  "kernelspec": {
   "display_name": "Python 3 (ipykernel)",
   "language": "python",
   "name": "python3"
  },
  "language_info": {
   "codemirror_mode": {
    "name": "ipython",
    "version": 3
   },
   "file_extension": ".py",
   "mimetype": "text/x-python",
   "name": "python",
   "nbconvert_exporter": "python",
   "pygments_lexer": "ipython3",
   "version": "3.10.8"
  }
 },
 "nbformat": 4,
 "nbformat_minor": 5
}
