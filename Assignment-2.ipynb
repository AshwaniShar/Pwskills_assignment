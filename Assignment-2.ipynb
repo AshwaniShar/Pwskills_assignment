{
 "cells": [
  {
   "cell_type": "code",
   "execution_count": 1,
   "id": "bbf77a8f-55bf-457b-8537-c0b31d308a4e",
   "metadata": {},
   "outputs": [],
   "source": [
    "#Assignemnt solution \n",
    "#date 30 jan 2023"
   ]
  },
  {
   "cell_type": "code",
   "execution_count": null,
   "id": "26d5f64d-7c90-42c5-ab17-d84222a464af",
   "metadata": {},
   "outputs": [],
   "source": []
  },
  {
   "cell_type": "code",
   "execution_count": 7,
   "id": "23f2172b-a871-49a7-b7ed-370560f2bc20",
   "metadata": {},
   "outputs": [
    {
     "name": "stdin",
     "output_type": "stream",
     "text": [
      "enter the percentage :  50\n"
     ]
    },
    {
     "name": "stdout",
     "output_type": "stream",
     "text": [
      "you got grade D\n"
     ]
    }
   ],
   "source": [
    "#Solution 1:\n",
    "\n",
    "\n",
    "marks=int(input(\"enter the percentage : \"))\n",
    "if(marks>90):\n",
    "    print(\"You got grade A\")\n",
    "elif(marks>80 and marks<=90):\n",
    "    print(\"You got grade B\")\n",
    "elif(marks>=60 and marks<=80):\n",
    "    print(\"You got grade C\")\n",
    "else:\n",
    "    print(\"you got grade D\")"
   ]
  },
  {
   "cell_type": "code",
   "execution_count": 9,
   "id": "f75d2a58-1885-4101-a898-f904b459c893",
   "metadata": {},
   "outputs": [
    {
     "name": "stdin",
     "output_type": "stream",
     "text": [
      "enter the bike cost price :  2500\n"
     ]
    },
    {
     "name": "stdout",
     "output_type": "stream",
     "text": [
      "Road tax 5% to be paid\n"
     ]
    }
   ],
   "source": [
    "#Solution 2:\n",
    "\n",
    "\n",
    "\n",
    "cost_price=int(input(\"enter the bike cost price : \"))\n",
    "if(cost_price>100000):\n",
    "    print(\"Road tax 15% to be paid\")\n",
    "elif(cost_price>50000 and cost_price<=100000):\n",
    "    print(\"Road tax 10% to be paid\")\n",
    "else:\n",
    "    print(\"Road tax 5% to be paid\")\n"
   ]
  },
  {
   "cell_type": "code",
   "execution_count": 14,
   "id": "7175cf1a-86a7-4002-8a2e-0fd5b521c490",
   "metadata": {},
   "outputs": [
    {
     "name": "stdin",
     "output_type": "stream",
     "text": [
      "choose the city name (Delhi, Agra, Jaipur) Delhi\n"
     ]
    },
    {
     "data": {
      "text/plain": [
       "'Redfort'"
      ]
     },
     "execution_count": 14,
     "metadata": {},
     "output_type": "execute_result"
    }
   ],
   "source": [
    "#solution 3:\n",
    "\n",
    "\n",
    "city_name={'Delhi':'Redfort','Agra':'TajMahal','Jaipur':'JalMahal'}\n",
    "a=input(\"choose the city name (Delhi, Agra, Jaipur)\")\n",
    "city_name[a]\n"
   ]
  },
  {
   "cell_type": "code",
   "execution_count": 32,
   "id": "f436d74f-5c43-4282-beed-0aeeeaabca1c",
   "metadata": {},
   "outputs": [
    {
     "name": "stdout",
     "output_type": "stream",
     "text": [
      "2\n"
     ]
    }
   ],
   "source": [
    "#solution 4:\n",
    "\n",
    "def count_divisions(n):\n",
    "    count= 0\n",
    "    while n > 10:\n",
    "        n = n/ 3\n",
    "        count += 1\n",
    "    return count\n",
    "print(count_divisions(45))"
   ]
  },
  {
   "cell_type": "code",
   "execution_count": 17,
   "id": "4e9ff4b3-312b-4f5f-b2a0-4c38849f6898",
   "metadata": {},
   "outputs": [
    {
     "name": "stdout",
     "output_type": "stream",
     "text": [
      "[1, 2, 3, 4, 5, 6, 7, 8, 9, 10]\n"
     ]
    }
   ],
   "source": [
    "#solution 5:\n",
    "\n",
    "\"\"\"while loop- the while loop we can execute a set of statement as long as a condition is true.\n",
    "the while loop requires relevant variables to be ready.\n",
    "while loop is used to run a block code until a certain condition is not true.\"\"\"\n",
    "\n",
    "i=1\n",
    "l1=[]\n",
    "while(i<=10):\n",
    "    l1.append(i)\n",
    "    i=i+1\n",
    "print(l1)"
   ]
  },
  {
   "cell_type": "code",
   "execution_count": 19,
   "id": "459856e6-261d-4eba-8543-b0bdca3c9636",
   "metadata": {},
   "outputs": [
    {
     "name": "stdin",
     "output_type": "stream",
     "text": [
      "enter number of row :  6\n"
     ]
    },
    {
     "name": "stdout",
     "output_type": "stream",
     "text": [
      "* \n",
      "* * \n",
      "* * * \n",
      "* * * * \n",
      "* * * * * \n",
      "* * * * * * \n"
     ]
    }
   ],
   "source": [
    "#solution 6:\n",
    "\n",
    "#1\n",
    "n= int(input(\"enter number of row : \"))\n",
    "i=1\n",
    "while i<=n:\n",
    "    j=1\n",
    "    while j<=i:\n",
    "        print(\"*\",end=\" \")\n",
    "        j=j+1\n",
    "    print()\n",
    "    i=i+1"
   ]
  },
  {
   "cell_type": "code",
   "execution_count": 24,
   "id": "8edb5ece-b50b-4d0f-a545-8be9d7f4ce94",
   "metadata": {},
   "outputs": [
    {
     "name": "stdin",
     "output_type": "stream",
     "text": [
      "enter number of row :  8\n"
     ]
    },
    {
     "name": "stdout",
     "output_type": "stream",
     "text": [
      "* * * * * * * * \n",
      "* * * * * * * * \n",
      "* * * * * * * * \n",
      "* * * * * * * * \n",
      "* * * * * * * * \n",
      "* * * * * * * * \n",
      "* * * * * * * * \n",
      "* * * * * * * * \n"
     ]
    }
   ],
   "source": [
    "#2\n",
    "\n",
    "n=int(input(\"enter number of row : \"))\n",
    "i=1\n",
    "while i<=n:\n",
    "    j=n\n",
    "    while j>=1:\n",
    "        print(\"*\",end=\" \")\n",
    "        j=j-1\n",
    "    print()\n",
    "    i=i+1\n"
   ]
  },
  {
   "cell_type": "code",
   "execution_count": 25,
   "id": "37e69494-2ae8-47a7-b660-294c1d5ee6bf",
   "metadata": {},
   "outputs": [
    {
     "name": "stdin",
     "output_type": "stream",
     "text": [
      "enter number of row :  9\n"
     ]
    },
    {
     "name": "stdout",
     "output_type": "stream",
     "text": [
      "* * * * * * * * * \n",
      "* * * * * * * * \n",
      "* * * * * * * \n",
      "* * * * * * \n",
      "* * * * * \n",
      "* * * * \n",
      "* * * \n",
      "* * \n",
      "* \n"
     ]
    }
   ],
   "source": [
    "#3\n",
    "n=int(input(\"enter number of row : \"))\n",
    "i=1\n",
    "while i<=n:\n",
    "    j=n\n",
    "    while j>=i:\n",
    "        print(\"*\",end=\" \")\n",
    "        j=j-1\n",
    "    print()\n",
    "    i=i+1\n",
    "\n"
   ]
  },
  {
   "cell_type": "code",
   "execution_count": 30,
   "id": "57b3ded7-ea5e-4999-bea9-4cb6fec87675",
   "metadata": {},
   "outputs": [
    {
     "name": "stdout",
     "output_type": "stream",
     "text": [
      "10\n",
      "9\n",
      "8\n",
      "7\n",
      "6\n",
      "5\n",
      "4\n",
      "3\n",
      "2\n",
      "1\n"
     ]
    }
   ],
   "source": [
    "#solution 7:\n",
    "\n",
    "a=10\n",
    "while(a>=1):\n",
    "    print(a)\n",
    "    a=a-1"
   ]
  },
  {
   "cell_type": "code",
   "execution_count": 29,
   "id": "a28f98c6-3ffc-4d22-b1c9-95d98cf221e2",
   "metadata": {},
   "outputs": [
    {
     "name": "stdout",
     "output_type": "stream",
     "text": [
      "10\n",
      "9\n",
      "8\n",
      "7\n",
      "6\n",
      "5\n",
      "4\n",
      "3\n",
      "2\n",
      "1\n"
     ]
    }
   ],
   "source": [
    "#solution 8:\n",
    "\n",
    "i=10\n",
    "while(i>=1):\n",
    "    print(i)\n",
    "    i -=1"
   ]
  },
  {
   "cell_type": "code",
   "execution_count": null,
   "id": "8a558cf5-1fa9-4f54-90d7-06fd3f51af56",
   "metadata": {},
   "outputs": [],
   "source": []
  }
 ],
 "metadata": {
  "kernelspec": {
   "display_name": "Python 3 (ipykernel)",
   "language": "python",
   "name": "python3"
  },
  "language_info": {
   "codemirror_mode": {
    "name": "ipython",
    "version": 3
   },
   "file_extension": ".py",
   "mimetype": "text/x-python",
   "name": "python",
   "nbconvert_exporter": "python",
   "pygments_lexer": "ipython3",
   "version": "3.10.8"
  }
 },
 "nbformat": 4,
 "nbformat_minor": 5
}
