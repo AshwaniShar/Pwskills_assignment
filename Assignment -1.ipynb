{
 "cells": [
  {
   "cell_type": "code",
   "execution_count": 1,
   "id": "b414619b-8334-4b32-a645-c565ca0cb296",
   "metadata": {},
   "outputs": [],
   "source": [
    "#Assignment solution \n",
    "#date 29 jan 2023\n",
    "\n",
    "\n"
   ]
  },
  {
   "cell_type": "code",
   "execution_count": 1,
   "id": "2722ac8f-2024-46c1-b683-13916d8f1b18",
   "metadata": {},
   "outputs": [],
   "source": [
    "#solution 1:\n",
    "\n",
    "\n",
    "Guido Van Rossum "
   ]
  },
  {
   "cell_type": "code",
   "execution_count": 2,
   "id": "319db1e9-0028-4ed2-ae72-e40f8e391ae8",
   "metadata": {},
   "outputs": [],
   "source": [
    "#solution 2:\n",
    "\n",
    "\n",
    "python fully supported objects oriented programming and structured programming"
   ]
  },
  {
   "cell_type": "code",
   "execution_count": 4,
   "id": "eeec7463-ac4a-472e-8101-2d9aebe263ff",
   "metadata": {},
   "outputs": [],
   "source": [
    "#solution 3:\n",
    "\n",
    "yes python is a case sensitive language. this applies to indenttifiers to."
   ]
  },
  {
   "cell_type": "code",
   "execution_count": 5,
   "id": "7d724235-9468-458e-a605-321f1348434a",
   "metadata": {},
   "outputs": [],
   "source": [
    "#solution 4:\n",
    "\n",
    ".py"
   ]
  },
  {
   "cell_type": "code",
   "execution_count": 6,
   "id": "744c4e9e-1689-4166-a93f-e7e21f0d38d0",
   "metadata": {},
   "outputs": [],
   "source": [
    "#solution 5:\n",
    "\n",
    "\n",
    "interpreted "
   ]
  },
  {
   "cell_type": "code",
   "execution_count": 8,
   "id": "085ebf3e-21c8-41af-b611-54586d4a4713",
   "metadata": {},
   "outputs": [],
   "source": [
    "#solution 6:\n",
    "\n",
    "\n",
    "A block is a piece of python program text that is executed as a unit. the following are blocks:\n",
    "a module, a function body, and a class definition."
   ]
  },
  {
   "cell_type": "code",
   "execution_count": 9,
   "id": "68bd9edc-454d-4c29-bfa0-82f080d157f8",
   "metadata": {},
   "outputs": [],
   "source": [
    "#solution 7:\n",
    "\n",
    "\n",
    "# symbol is use for single line comment"
   ]
  },
  {
   "cell_type": "code",
   "execution_count": 10,
   "id": "2a35b529-dbf8-4397-97bb-6d1fdf0d896f",
   "metadata": {},
   "outputs": [],
   "source": [
    "#solution 8:\n",
    "\n",
    "The function sys. version can help us to find the version of python that we are currently working on."
   ]
  },
  {
   "cell_type": "code",
   "execution_count": 11,
   "id": "c3d51e04-661c-4fbe-acf2-c9ef2c65b543",
   "metadata": {},
   "outputs": [],
   "source": [
    "#solution 9:\n",
    "\n",
    "\n",
    "lambda."
   ]
  },
  {
   "cell_type": "code",
   "execution_count": 12,
   "id": "ce02e148-5ed2-4323-a8c8-96798811a98a",
   "metadata": {},
   "outputs": [],
   "source": [
    "#solution 10:\n",
    "\n",
    "pip(prefrred installer program)"
   ]
  },
  {
   "cell_type": "code",
   "execution_count": 13,
   "id": "09c3cf0f-489f-4c72-83ee-d2d38223226e",
   "metadata": {},
   "outputs": [],
   "source": [
    "#solution 11:\n",
    "\n",
    "\n",
    "print() function\n",
    "type() function\n",
    "input() function\n",
    "sorted() fuction \n",
    "etc.\n"
   ]
  },
  {
   "cell_type": "code",
   "execution_count": 14,
   "id": "a1cbf5fe-2c3d-4577-8a59-8dd0f41b9f89",
   "metadata": {},
   "outputs": [],
   "source": [
    "#solution 12:\n",
    "\n",
    "An identifier can have a maximum length of 79 characters. "
   ]
  },
  {
   "cell_type": "code",
   "execution_count": 15,
   "id": "305d19a4-4b12-4607-a20e-1c8a4437f943",
   "metadata": {},
   "outputs": [],
   "source": [
    "#solution 13:\n",
    "\n",
    "-python programming is general purpose skill use in such field(Data science, web development, system automation etc) so it is helpful in various type of \n",
    "industy\n",
    "-python is easy to learn and easy to use.\n",
    "-python is extremely productive language beacuse of its simplicity.\n",
    "-python is being an interpreted language so execute the code directly."
   ]
  },
  {
   "cell_type": "code",
   "execution_count": 16,
   "id": "9eee22f1-355a-4116-8f73-d3aa20a478f3",
   "metadata": {},
   "outputs": [],
   "source": [
    "#solution 14:\n",
    "\n",
    "memory management in python involves a private heap containing all python object and data structure. python \n",
    "uses a portion of the memory for internal use and non-object memory. another part of the memory is used for python such as int, dict, list, etc\n",
    "the object alloctor gets a call every time the new object needs space."
   ]
  },
  {
   "cell_type": "code",
   "execution_count": 17,
   "id": "12a668b0-38d5-405f-8be8-ac5d8d7e9b40",
   "metadata": {},
   "outputs": [],
   "source": [
    "#solution 15:\n",
    "\n",
    "for downloded we have to go in python official website which is www.python.org. and then go into download section which is https://www.python.org/downloads/\n",
    "after this download file python-3.11.1-amd64 and install it \n",
    "for path variable \n",
    "    1.Right-clicking This PC and going to Properties.\n",
    "    2.Clicking on the Advanced system settings in the menu on the left.\n",
    "    3.Clicking on the Environment Variables button o​n the bottom right.\n",
    "    4.In the System variables section, selecting the Path variable and clicking on Edit. The next screen will show all the directories that are currently a part of the PATH variable.\n",
    "    5.Clicking on New and entering Python’s install directory."
   ]
  },
  {
   "cell_type": "code",
   "execution_count": 18,
   "id": "ae059632-dc02-4fde-809a-68419bffb5b3",
   "metadata": {},
   "outputs": [],
   "source": [
    "#solution 16:\n",
    "\n"
   ]
  },
  {
   "cell_type": "code",
   "execution_count": null,
   "id": "2ca88916-098e-4206-ab68-3ee5b5447320",
   "metadata": {},
   "outputs": [],
   "source": []
  }
 ],
 "metadata": {
  "kernelspec": {
   "display_name": "Python 3 (ipykernel)",
   "language": "python",
   "name": "python3"
  },
  "language_info": {
   "codemirror_mode": {
    "name": "ipython",
    "version": 3
   },
   "file_extension": ".py",
   "mimetype": "text/x-python",
   "name": "python",
   "nbconvert_exporter": "python",
   "pygments_lexer": "ipython3",
   "version": "3.10.8"
  }
 },
 "nbformat": 4,
 "nbformat_minor": 5
}
