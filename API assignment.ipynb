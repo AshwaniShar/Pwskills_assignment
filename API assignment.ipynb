{
 "cells": [
  {
   "cell_type": "code",
   "execution_count": 1,
   "id": "999c5e8b-77d0-4e59-aa1a-c9350f75abd5",
   "metadata": {},
   "outputs": [],
   "source": [
    "#web Api assignment"
   ]
  },
  {
   "cell_type": "markdown",
   "id": "c4030ea6-c53d-495f-99a8-3ae28644dd6c",
   "metadata": {},
   "source": [
    "#solution 1:\n",
    "\n",
    "APIs are mechanisms that enable two software components to communicate with each other using a set of definitions and protocols. \n",
    "\n",
    "\n",
    "For example, the weather bureau's software system contains daily weather data. The weather app on your phone “talks” to this system via APIs and shows you daily weather updates on your phone."
   ]
  },
  {
   "cell_type": "code",
   "execution_count": null,
   "id": "4defd8f7-5950-421d-8752-ad98a16b66d5",
   "metadata": {},
   "outputs": [],
   "source": []
  },
  {
   "cell_type": "markdown",
   "id": "624a88fd-66b6-4817-972f-5727734e960a",
   "metadata": {},
   "source": [
    "#solution 2:\n",
    "\n",
    "The main advantage of providing an API is that it allows your users to do more with your product or service (i.e. it increases the value of your product). This typically takes one of two forms -\n",
    "\n",
    "an integration. An example of an integration is to push notifications from your product (such as CRM, Helpdesk) to a messaging tool such as Slack. In this way, if your customer uses Slack they can receive notifications without having to login directly to your system or check emails.\n",
    "new functionality. In the early days of Twitter, some of the most popular Twitter clients were produced by third parties using the Twitter API. Twitter and its users benefited from the new functionality that was undertaken by other companies.\n",
    "\n",
    "The disadvantages to providing an API are,\n",
    "\n",
    "Cost. Providing an API is expensive in terms of development time, ongoing maintenance, providing API documentation on your website and providing support to users of your API.\n",
    "Security exposure. Adding an API adds another attack surface to your website.\n",
    "You might not like the result or you may change business direction. It's not always easy to predict exactly how your API will be used. If your integration with a messaging system means that users login to your service less often, will there be an overall negative impact for you? Withdrawing an API can be painful for users if you decide that you need to do so. This is unusual but it can happen. As Twitter's business evolved it changed its rules for accessing its API which resulted in a number of problems for users and developers"
   ]
  },
  {
   "cell_type": "code",
   "execution_count": null,
   "id": "d5d2ac6c-a4f5-4397-8822-6f5ebe20d640",
   "metadata": {},
   "outputs": [],
   "source": []
  },
  {
   "cell_type": "markdown",
   "id": "84969e3e-79b5-41b2-b58e-0ede26cc8116",
   "metadata": {},
   "source": [
    "### solution 3:\n",
    "\n",
    "API\n",
    "----\n",
    "\n",
    "An application programming interface (or API for short) is a software component that enables two otherwise unrelated applications to communicate with each other. The result of this communication is increased functionality. An API consists of standardized rules and functions that determine what data may be taken or modified within an application and how the process occurs. \n",
    "\n",
    "APIs enable software integrations since they expose some of an application's inner data that developers use. This makes an API an \"interface\" — you can request data from an otherwise closed-off application. Remember: it's not uncommon for organizations to use several APIs. You might even have an API catalog. \n",
    "\n",
    "\n",
    "Difference between API and Web API\n",
    "------------------------------------\n",
    "\n",
    "1.APIs can be divided into types based on their scope of users. Some APIs allow developers to mess around with them with limited oversight, while others are restricted to paid clients. On the contrary, web services are only accessible to approved partners. This provides web service owners greater control over who accesses data, how they use the service, and its functions.\n",
    "\n",
    "2.An API may adhere to various designs, including REST, SOAP, XML-RPC, or JSON-RPC. On the other hand, web services typically stick to SOAP because it tends to be more secure and better at preserving data integrity than others. \n",
    "\n",
    "The main trade-off is that SOAP is more strict in its requirements than RESTful design, making it more code-heavy and process-intensive. That's why a web service may incorporate principles from REST or XML-RPC. Still, it's primarily agreed that SOAP is the go-to protocol.\n",
    "\n",
    "Web services also tend to use the XML format to encode data, while APIs generally may use any language to store data. For instance, the language is JavaScript Object Notation (JSON), a more lightweight alternative.\n",
    "\n",
    "3.Both APIs and web services are technologies that enable the transfer of data between separate software applications. API is an interface that exposes an application's data to outside software, whereas web applications are one type of API with stricter requirements. These requirements include network communication, SOAP as the primary protocol, and less accessibility for the public."
   ]
  },
  {
   "cell_type": "code",
   "execution_count": null,
   "id": "56ff0a64-3aac-4223-b151-877534f95141",
   "metadata": {},
   "outputs": [],
   "source": []
  },
  {
   "cell_type": "markdown",
   "id": "a9ddc7d2-91ca-4646-a7f1-a1c7f17fe7e6",
   "metadata": {},
   "source": [
    "#solution 4:\n",
    "\n",
    "REST API \n",
    "----------\n",
    "REST (Representational State Transfer) is truly a “web services” API. REST APIs are based on URIs (Uniform Resource Identifier, of which a URL is a specific type) and the HTTP protocol and use JSON for a data format, which is super browser-compatible. (It could also theoretically use the SOAP protocol, as we mentioned above.) REST APIs can be simple to build and scale, but they can also be massive and complicated—it’s all in how they’re built, added on to, and what they’re designed to do.\n",
    "\n",
    "Reasons you may want to build an API to be RESTful include resource limitations, fewer security requirements, browser client compatibility, discoverability, data health, and scalability—things that really apply to web services.\n",
    "\n",
    "\n",
    "REST is all about simplicity, thanks to HTTP protocols.\n",
    "REST APIs facilitate client-server communications and architectures. If it’s RESTful, it’s built on this client-server principle, with round trips between the two passing payloads of information.\n",
    "REST APIs use a single uniform interface. This simplifies how applications interact with the API by requiring they all interface in the same way, through the same portal. This has advantages and disadvantages; check with your developer to see if this will affect implementation changes down the road.\n",
    "REST is optimized for the web. Using JSON as its data format makes it compatible with browsers.‍\n",
    "REST is known for excellent performance and scalability. But, like any technology, it can get bogged down or bog down your app. That’s why languages like GraphQL have come along to address problems even REST can’t solve.\n",
    "\n",
    "\n",
    "SOAP\n",
    "--------\n",
    "\n",
    "SOAP (Simple Object Access Protocol) is its own protocol and is a bit more complex by defining more standards than REST—things like security and how messages are sent. These built-in standards do carry a bit more overhead. Still, they can be a deciding factor for organizations that require more comprehensive features in the way of security, transactions, and ACID (Atomicity, Consistency, Isolation, Durability) compliance. For the sake of this comparison, we should point out that many of the reasons why SOAP is a good choice rarely apply to web services scenarios, which makes it more ideal for enterprise-type situations.\n",
    "\n",
    "Reasons you may want to develop an application with a SOAP API include higher levels of security (e.g., a mobile application interfacing with a bank), messaging apps that need reliable communication, communicating with legacy systems, or ACID compliance.\n",
    "\n",
    "SOAP has much tighter security. In addition to SSL support, WS-Security is a built-in standard that gives SOAP some more enterprise-level security features if you require them.\n",
    "Successful/retry logic for reliable messaging functionality. REST doesn’t have a standard messaging system and can only address communication failures by retrying. SOAP has successful/retry logic built-in and provides end-to-end reliability even through SOAP intermediaries.\n",
    "SOAP has built-in ACID compliance. ACID compliance reduces anomalies and protects the integrity of a database by prescribing how transactions can interact with the database. ACID is more conservative than other data consistency models, which is why it’s typically favored when handling financial or otherwise sensitive transactions."
   ]
  },
  {
   "cell_type": "code",
   "execution_count": null,
   "id": "0ec2b9f2-497d-49c7-bd3c-bc7cf6ef2b9a",
   "metadata": {},
   "outputs": [],
   "source": []
  },
  {
   "cell_type": "markdown",
   "id": "354fdcd4-433b-4335-90d6-3f59246665f7",
   "metadata": {},
   "source": [
    "#solution 5:\n",
    "\n",
    "Difference between REST and SOAP\n",
    "------------------------------------\n",
    "\n",
    "\n",
    "SOAP is a protocol, whereas REST is an architectural style\n",
    "An API is designed to expose certain aspects of an application’s business logic on a server, and SOAP uses a service interface to do this while REST uses URIs. While SOAP APIs are designed after the functions that the API exposes, REST APIs are designed after the data. For example, a SOAP API that exposes functionality to create a user might include a function called \"CreateUser\" that would be specified in the SOAP body. A REST API would instead expose a URL /users, and a POST request towards that URL would create a user.\n",
    "\n",
    "REST APIs access a resource for data (a URI); SOAP APIs perform an operation\n",
    "REST is an architecture that’s more data-driven, while SOAP is a standardized protocol for transferring structured information that’s more function-driven. REST permits many different data formats, including plain text, HTML, XML, and JSON, which is a great fit for data and yields more browser compatibility; SOAP only uses XML. SOAP APIs are limited to using XML and the format including the SOAP envelope, header, and body, as we saw in the example above. REST APIs are, however, format agnostic. While the most common format is JSON, formats such as XML, plain text, and XML are also valid for REST APIs.\n",
    "\n",
    "Security is handled differently\n",
    "SOAP supports WS-Security, which is great at the transport level and a bit more comprehensive than SSL, and more ideal for integration with enterprise-level security tools. Both support SSL for end-to-end security and REST can use the secure version of the HTTP protocol, HTTPS. While both SOAP and REST APIs can encrypt their communication using HTTPS and SSL, the additional layer of WS-Security provided by SOAP acts on the message level to make sure not only that the content of a message can be read by the right server but also the right process on the server.\n",
    "\n",
    "SOAP requires more bandwidth, whereas REST requires fewer resources (depending on the API)\n",
    "There’s a little more overhead with SOAP out of the gate because of the envelope-style of payload transport. Because REST is used primarily for web services, its being lightweight is an advantage in those scenarios.\n",
    "\n",
    "REST calls can be cached, while SOAP-based calls cannot be cached\n",
    "Data can be marked as cacheable, which means it can be reused by the browser later without initiating another request back to the server. This saves time and resources. Since all SOAP requests are sent using a POST request, and POST requests are considered non-idempotent by the HTTP standard, responses will not be cached at the HTTP level. REST APIs do not have this limitation, but you still need to implement the caching mechanisms yourself if you want to use caching. Caching is a key functionality when performance and scalability come into play.\n",
    "\n",
    "APIs are built to handle your app’s payload, and REST and SOAP do this differently\n",
    "A payload is data sent over the internet, and when a payload is “heavy,” it requires more resources. REST tends to use HTTP and JSON, which lighten the payload; SOAP relies more on XML.\n",
    "\n",
    "SOAP APIs have a very strict communication contract and usually require the client to use a specific client library with generated code to access them. This means SOAP is tightly coupled with the server and provides a lower abstraction layer compared to REST. A higher level of abstraction between two pieces of technology means less control over their interaction. Still, there’s also less complexity, and it’s easier to make updates to one or the other without blowing up the whole relationship. This is a key difference between SOAP and REST to consider. SOAP is very closely coupled with the server, having a strict communication contract with it that makes it more difficult to make changes or updates. A client interacting with a REST API needs no knowledge of the API. Still, a client interacting with a SOAP API needs knowledge about everything it will be using before initiating an interaction.\n",
    "\n",
    "From a development perspective, a SOAP client usually needs third-party libraries to communicate with a SOAP API. In contrast, the only library you need to communicate with a REST API is normally the HTTP request libraries that come built into your programming language.\n",
    "\n",
    "\n"
   ]
  }
 ],
 "metadata": {
  "kernelspec": {
   "display_name": "Python 3 (ipykernel)",
   "language": "python",
   "name": "python3"
  },
  "language_info": {
   "codemirror_mode": {
    "name": "ipython",
    "version": 3
   },
   "file_extension": ".py",
   "mimetype": "text/x-python",
   "name": "python",
   "nbconvert_exporter": "python",
   "pygments_lexer": "ipython3",
   "version": "3.10.8"
  }
 },
 "nbformat": 4,
 "nbformat_minor": 5
}
