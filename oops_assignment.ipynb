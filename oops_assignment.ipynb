{
 "cells": [
  {
   "cell_type": "code",
   "execution_count": 1,
   "id": "70db635e-11bf-4668-823b-9235a6ea75b6",
   "metadata": {},
   "outputs": [],
   "source": [
    "#oops assignment\n"
   ]
  },
  {
   "cell_type": "code",
   "execution_count": 2,
   "id": "429b7bda-7c3a-49f5-ac76-ffb5f4ec9b08",
   "metadata": {},
   "outputs": [
    {
     "name": "stdout",
     "output_type": "stream",
     "text": [
      "Toyota 2016\n"
     ]
    }
   ],
   "source": [
    "#solution 1:\n",
    "\n",
    "\"\"\"\n",
    "class with respect to oops\n",
    "----------------------------\n",
    "\n",
    "The class can be defined as a collection of objects. It is a \n",
    "logical entity that has some specific attributes and methods. \n",
    "For example: if you have an employee class, then it should contain\n",
    "an attribute and method, i.e. an email id, name, age, salary, etc.\n",
    "\n",
    "\n",
    "object with respect to oops\n",
    "-------------------------------\n",
    "Everything in Python is an object, and almost everything has attributes\n",
    "and methods. All functions have a built-in attribute __doc__, which returns \n",
    "the docstring defined in the function source code.\n",
    "\n",
    "When we define a class, it needs to create an object to allocate the memory\n",
    "\n",
    "\n",
    "\"\"\"\n",
    "\n",
    "class car:  \n",
    "    def __init__(self,modelname, year):  \n",
    "        self.modelname = modelname  \n",
    "        self.year = year  \n",
    "    def display(self):  \n",
    "        print(self.modelname,self.year)  \n",
    "  \n",
    "c1 = car(\"Toyota\", 2016)  \n",
    "c1.display()  "
   ]
  },
  {
   "cell_type": "code",
   "execution_count": 3,
   "id": "bc7450c3-6868-4f90-947a-458dcbf45179",
   "metadata": {},
   "outputs": [
    {
     "data": {
      "text/plain": [
       "'\\nfour pillars of oops\\n1. Inheritance\\n2. Polymorphism\\n3. Encapsulation\\n4. Abstraction\\n'"
      ]
     },
     "execution_count": 3,
     "metadata": {},
     "output_type": "execute_result"
    }
   ],
   "source": [
    "#solution 2:\n",
    "\n",
    "\"\"\"\n",
    "four pillars of oops\n",
    "1. Inheritance\n",
    "2. Polymorphism\n",
    "3. Encapsulation\n",
    "4. Abstraction\n",
    "\"\"\""
   ]
  },
  {
   "cell_type": "code",
   "execution_count": 5,
   "id": "23d32672-666e-4011-9c1b-693be0f80c83",
   "metadata": {},
   "outputs": [
    {
     "name": "stdout",
     "output_type": "stream",
     "text": [
      "Hello, PWsills\n"
     ]
    }
   ],
   "source": [
    "#solution 3:\n",
    "\n",
    "\"\"\"\n",
    "The Default __init__ Constructor in python. Constructors \n",
    "are used to initializing the object’s state. The task of \n",
    "constructors is to initialize(assign values) to the data\n",
    "members of the class when an object of the class is created.\n",
    "Like methods, a constructor also contains a collection of \n",
    "statements(i.e. instructions) that are executed at the time \n",
    "of Object creation. It is run as soon as an object of a class \n",
    "is instantiated.\n",
    "\"\"\"\n",
    "\n",
    "\n",
    "class Person:\n",
    "\n",
    "\t# init method or constructor\n",
    "\tdef __init__(self, name):\n",
    "\t\tself.name = name\n",
    "\n",
    "\tdef say_hi(self):\n",
    "\t\tprint('Hello,', self.name)\n",
    "\n",
    "\n",
    "p = Person('PWsills')\n",
    "p.say_hi()\n"
   ]
  },
  {
   "cell_type": "code",
   "execution_count": 6,
   "id": "477c7cb1-b78f-445f-a1f6-f61e8da38b61",
   "metadata": {},
   "outputs": [
    {
     "name": "stdout",
     "output_type": "stream",
     "text": [
      "Address of self =  139884148460944\n",
      "Address of class object =  139884148460944\n"
     ]
    }
   ],
   "source": [
    "#solution 4:\n",
    "\n",
    "\"\"\"\n",
    "self represents the instance of the class. By using the “self”  we \n",
    "can access the attributes and methods of the class in python. It \n",
    "binds the attributes with the given arguments.\n",
    "\n",
    "Python decided to do methods in a way that makes the instance to\n",
    "which the method belongs be passed automatically, but not received\n",
    "automatically: the first parameter of methods is the instance the \n",
    "method is called on.\n",
    "\n",
    "\"\"\"\n",
    "\n",
    "\n",
    "\n",
    "class check:\n",
    "\tdef __init__(self):\n",
    "\t\tprint(\"Address of self = \",id(self))\n",
    "\n",
    "obj = check()\n",
    "print(\"Address of class object = \",id(obj))\n",
    "\n",
    "\n"
   ]
  },
  {
   "cell_type": "code",
   "execution_count": 7,
   "id": "a63c962a-dac1-46c3-93a6-a51c8392a671",
   "metadata": {},
   "outputs": [
    {
     "name": "stdout",
     "output_type": "stream",
     "text": [
      "John Doe\n"
     ]
    }
   ],
   "source": [
    "#solution 5:\n",
    "\n",
    "\"\"\"\n",
    "Inheritance in python\n",
    "----------------------\n",
    "\n",
    "nheritance allows us to define a class that inherits all the methods and \n",
    "properties from another class.\n",
    "\n",
    "Parent class is the class being inherited from, also called base class.\n",
    "\n",
    "Child class is the class that inherits from another class, also called derived class.\n",
    "\"\"\"\n",
    "\n",
    "class Person:\n",
    "  def __init__(self, fname, lname):\n",
    "    self.firstname = fname\n",
    "    self.lastname = lname\n",
    "\n",
    "  def printname(self):\n",
    "    print(self.firstname, self.lastname)\n",
    "\n",
    "\n",
    "x = Person(\"John\", \"Doe\")\n",
    "x.printname()"
   ]
  },
  {
   "cell_type": "code",
   "execution_count": null,
   "id": "40dcc4b6-1db4-40dd-8fb1-e65010667866",
   "metadata": {},
   "outputs": [],
   "source": []
  }
 ],
 "metadata": {
  "kernelspec": {
   "display_name": "Python 3 (ipykernel)",
   "language": "python",
   "name": "python3"
  },
  "language_info": {
   "codemirror_mode": {
    "name": "ipython",
    "version": 3
   },
   "file_extension": ".py",
   "mimetype": "text/x-python",
   "name": "python",
   "nbconvert_exporter": "python",
   "pygments_lexer": "ipython3",
   "version": "3.10.8"
  }
 },
 "nbformat": 4,
 "nbformat_minor": 5
}
