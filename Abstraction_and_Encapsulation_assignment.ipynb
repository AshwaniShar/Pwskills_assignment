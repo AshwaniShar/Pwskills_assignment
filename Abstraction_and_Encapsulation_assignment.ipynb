{
 "cells": [
  {
   "cell_type": "code",
   "execution_count": 1,
   "id": "6cd59bd2-bb5e-4e05-ad17-b983c9ca4ab3",
   "metadata": {},
   "outputs": [],
   "source": [
    "#Abstraction and Encapsulation assignment\n"
   ]
  },
  {
   "cell_type": "code",
   "execution_count": 4,
   "id": "3fac2e14-900a-4290-ad53-2499e553f4f5",
   "metadata": {},
   "outputs": [],
   "source": [
    "#solution 1:\n",
    "\n",
    "\"\"\"\n",
    "A class that consists of one or more abstract method is called abstract class. Abstract\n",
    "methods do not contain their implementation. Abstract class can be inherited by the \n",
    "subclass and abstract method gets its definition in the subclass. Abstraction class \n",
    "are meant to be the blueprint of the other class. An abstract class be usful  when \n",
    "we are are designing large functions. A abstract class is also helpful to provide \n",
    "the standerdd interface for different implementation of components.\n",
    "\n",
    "\"\"\"\n",
    "\n",
    "from abc import ABC\n",
    "\n",
    "class poly(ABC):\n",
    "    \n",
    "    def sides(self):\n",
    "        pass\n",
    "    \n",
    "class Tringle(poly):\n",
    "    \n",
    "    def sides(self):\n",
    "        print(\"tringle has 3 sides\")\n",
    "        \n",
    "class square(poly):\n",
    "    \n",
    "    def sides(self):\n",
    "        print(\"squre has 4 for side\")"
   ]
  },
  {
   "cell_type": "code",
   "execution_count": 5,
   "id": "746080aa-8051-457c-b13b-63428c1fef03",
   "metadata": {},
   "outputs": [
    {
     "name": "stdout",
     "output_type": "stream",
     "text": [
      "tringle has 3 sides\n"
     ]
    }
   ],
   "source": [
    "t=Tringle()\n",
    "t.sides()\n"
   ]
  },
  {
   "cell_type": "code",
   "execution_count": 7,
   "id": "7ef15c2c-3ab7-4c6a-a276-ac4ebbc51ab9",
   "metadata": {},
   "outputs": [
    {
     "name": "stdout",
     "output_type": "stream",
     "text": [
      "squre has 4 for side\n"
     ]
    }
   ],
   "source": [
    "s=square()\n",
    "s.sides()"
   ]
  },
  {
   "cell_type": "code",
   "execution_count": 8,
   "id": "e649c19b-830c-4145-b91d-4ced2abcac11",
   "metadata": {},
   "outputs": [],
   "source": [
    "#solution 2"
   ]
  },
  {
   "cell_type": "code",
   "execution_count": 9,
   "id": "af860f64-de7c-455a-81f5-032976dc9663",
   "metadata": {},
   "outputs": [],
   "source": [
    "#Differnece between Abstraction and Encapsulation"
   ]
  },
  {
   "cell_type": "code",
   "execution_count": 10,
   "id": "169bc656-e299-4024-89ff-781d3a78a80a",
   "metadata": {},
   "outputs": [],
   "source": [
    "#Abstraction\n",
    "\n",
    "\"\"\"\n",
    "A class that consists of one or more abstract method is called abstract class. Abstract\n",
    "methods do not contain their implementation. Abstract class can be inherited by the \n",
    "subclass and abstract method gets its definition in the subclass. Abstraction class \n",
    "are meant to be the blueprint of the other class. An abstract class be usful  when \n",
    "we are are designing large functions. A abstract class is also helpful to provide \n",
    "the standerdd interface for different implementation of components.\n",
    "\n",
    "\"\"\"\n",
    "\n",
    "from abc import ABC\n",
    "\n",
    "class poly(ABC):\n",
    "    \n",
    "    def sides(self):\n",
    "        pass\n",
    "    \n",
    "class Tringle(poly):\n",
    "    \n",
    "    def sides(self):\n",
    "        print(\"tringle has 3 sides\")\n",
    "        \n",
    "class square(poly):\n",
    "    \n",
    "    def sides(self):\n",
    "        print(\"squre has 4 for side\")"
   ]
  },
  {
   "cell_type": "code",
   "execution_count": 11,
   "id": "75d4ecfc-f951-447d-8959-6356325d5fef",
   "metadata": {},
   "outputs": [
    {
     "name": "stdout",
     "output_type": "stream",
     "text": [
      "tringle has 3 sides\n"
     ]
    }
   ],
   "source": [
    "t=Tringle()\n",
    "t.sides()"
   ]
  },
  {
   "cell_type": "code",
   "execution_count": 12,
   "id": "e1bec1fe-e7f4-42b5-a558-494955eca276",
   "metadata": {},
   "outputs": [
    {
     "name": "stdout",
     "output_type": "stream",
     "text": [
      "squre has 4 for side\n"
     ]
    }
   ],
   "source": [
    "s=square()\n",
    "s.sides()"
   ]
  },
  {
   "cell_type": "code",
   "execution_count": 14,
   "id": "6bdc1858-f0ba-40ce-8fd2-37e1a266634d",
   "metadata": {},
   "outputs": [],
   "source": [
    "#Encapsulation\n",
    "\n",
    "\"\"\"\n",
    "This is the concept of wrapping data and methods that work with data in one unit. This prevents data modification \n",
    "accidentally by limiting access to variables and methods. An object's method can change a variable's value to \n",
    "prevent accidental changes. These variables are called private variables.\n",
    "Encapsulation is demonstrated by a class which encapsulates all data, such as member functions, variables\n",
    "\n",
    "\"\"\"\n",
    "\n",
    "class car:\n",
    "    \n",
    "    def __init__(self,year,make,model,speed):\n",
    "        \n",
    "        self.__year=year\n",
    "        self.__make=make\n",
    "        self.__model=model\n",
    "        self.__speed=speed\n",
    "        \n",
    "        \n",
    "    def set_speed(self,speed):\n",
    "        self.__speed=0 if speed<0 else speed\n",
    "        \n",
    "    def get_speed(self):\n",
    "        return self.__speed"
   ]
  },
  {
   "cell_type": "code",
   "execution_count": 15,
   "id": "ada1f181-e1a7-488b-aaea-f1d4a29cd107",
   "metadata": {},
   "outputs": [],
   "source": [
    "c=car(2021,\"toyata\",\"invove\",123)\n"
   ]
  },
  {
   "cell_type": "code",
   "execution_count": 16,
   "id": "eeeec900-ae68-4e55-8b04-044a29a2dd92",
   "metadata": {},
   "outputs": [
    {
     "data": {
      "text/plain": [
       "2021"
      ]
     },
     "execution_count": 16,
     "metadata": {},
     "output_type": "execute_result"
    }
   ],
   "source": [
    "c._car__year"
   ]
  },
  {
   "cell_type": "code",
   "execution_count": 18,
   "id": "84cc934d-d656-4569-88bb-da92f2bcf6ed",
   "metadata": {},
   "outputs": [
    {
     "name": "stdout",
     "output_type": "stream",
     "text": [
      "List instance: True\n",
      "Tuple instance: True\n",
      "Object instance: False\n"
     ]
    }
   ],
   "source": [
    "#solution 3:\n",
    "\n",
    "\"\"\"\n",
    "ABC module in python\n",
    "-------------------------\n",
    "\n",
    "The main goal of the abstract base class is to provide a standardized \n",
    "way to test whether an object adheres to a given specification. It can \n",
    "also prevent any attempt to instantiate a subclass that doesn’t override \n",
    "a particular method in the superclass. And finally, using an abstract class, \n",
    "a class can derive identity from another class without any object inheritance.\n",
    "\n",
    "\n",
    "\"\"\"\n",
    "\n",
    "import abc\n",
    "  \n",
    "  \n",
    "class MySequence(metaclass=abc.ABCMeta):\n",
    "    pass\n",
    "  \n",
    "MySequence.register(list)\n",
    "MySequence.register(tuple)\n",
    "  \n",
    "a = [1, 2, 3]\n",
    "b = ('x', 'y', 'z')\n",
    "  \n",
    "print('List instance:', isinstance(a, MySequence))\n",
    "print('Tuple instance:', isinstance(b, MySequence))\n",
    "print('Object instance:', isinstance(object(), MySequence))"
   ]
  },
  {
   "cell_type": "code",
   "execution_count": 19,
   "id": "8ebaa522-a548-4163-b227-2215d6ee64bf",
   "metadata": {},
   "outputs": [
    {
     "data": {
      "text/plain": [
       "'\\nHe feature allows us to hide the implementation detail from the user and\\nshows only the functionality of the programming to the user. Because the \\nuser is not interested to know the implementation. It is also safe from \\nthe security point of view.\\n\\nWe can achieve abstraction in two ways:\\n\\nUsing Abstract Class\\nUsing Interface\\n'"
      ]
     },
     "execution_count": 19,
     "metadata": {},
     "output_type": "execute_result"
    }
   ],
   "source": [
    "#solution 4:\n",
    "\n",
    "'''\n",
    "He feature allows us to hide the implementation detail from the user and\n",
    "shows only the functionality of the programming to the user. Because the \n",
    "user is not interested to know the implementation. It is also safe from \n",
    "the security point of view.\n",
    "\n",
    "We can achieve abstraction in two ways:\n",
    "\n",
    "Using Abstract Class\n",
    "Using Interface\n",
    "'''\n",
    "\n"
   ]
  },
  {
   "cell_type": "code",
   "execution_count": 22,
   "id": "8efc8b53-aa26-4620-b903-b54ed5703599",
   "metadata": {},
   "outputs": [],
   "source": [
    "#solution 5:\n",
    "\n",
    "\n",
    "\"\"\"No. we can't create an instance of an abstract class.\"\"\"\n",
    "\n",
    "class F:\n",
    "    def __new__(cls):\n",
    "        raise Exception(\"Unable to create an instance of abstract class %s\" %cls)"
   ]
  },
  {
   "cell_type": "code",
   "execution_count": 23,
   "id": "9c7664d1-7e40-41a9-ab3b-93f4204abad7",
   "metadata": {},
   "outputs": [],
   "source": [
    "class G(F):\n",
    "    pass"
   ]
  },
  {
   "cell_type": "code",
   "execution_count": null,
   "id": "9f2868f2-5072-4c6b-ac4f-e2298e83bead",
   "metadata": {},
   "outputs": [],
   "source": []
  }
 ],
 "metadata": {
  "kernelspec": {
   "display_name": "Python 3 (ipykernel)",
   "language": "python",
   "name": "python3"
  },
  "language_info": {
   "codemirror_mode": {
    "name": "ipython",
    "version": 3
   },
   "file_extension": ".py",
   "mimetype": "text/x-python",
   "name": "python",
   "nbconvert_exporter": "python",
   "pygments_lexer": "ipython3",
   "version": "3.10.8"
  }
 },
 "nbformat": 4,
 "nbformat_minor": 5
}
