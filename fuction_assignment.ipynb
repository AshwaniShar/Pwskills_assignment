{
 "cells": [
  {
   "cell_type": "code",
   "execution_count": 1,
   "id": "f074196b-eacd-40b0-9354-61cd786238eb",
   "metadata": {},
   "outputs": [],
   "source": [
    "#function assignment"
   ]
  },
  {
   "cell_type": "code",
   "execution_count": 4,
   "id": "23ec4d5d-c8c8-4c65-84f2-2cfd8b10da3e",
   "metadata": {},
   "outputs": [
    {
     "data": {
      "text/plain": [
       "[1, 3, 5, 7, 9, 11, 13, 15, 17, 19, 21, 23, 25]"
      ]
     },
     "execution_count": 4,
     "metadata": {},
     "output_type": "execute_result"
    }
   ],
   "source": [
    "#question 1:\n",
    "\n",
    "n=25\n",
    "def odd_list(n):\n",
    "    \n",
    "    l1=[i for i in list(range(1,n+1)) if i%2 !=0]\n",
    "    return l1\n",
    "odd_list(n)"
   ]
  },
  {
   "cell_type": "code",
   "execution_count": 5,
   "id": "0c357ea6-44df-4485-87af-21d1bd979419",
   "metadata": {},
   "outputs": [
    {
     "name": "stdout",
     "output_type": "stream",
     "text": [
      "(1, 2, 3, 4, 5, 6, 7, 8)\n",
      "([1, 2, 3, 4, 5, 6, 7, 8, 9, 10],)\n"
     ]
    },
    {
     "data": {
      "text/plain": [
       "tuple"
      ]
     },
     "execution_count": 5,
     "metadata": {},
     "output_type": "execute_result"
    }
   ],
   "source": [
    "#question 2\n",
    "\n",
    "\"\"\" *args \n",
    "    when we need n number of arguments to given by user \n",
    "    we can use single *args.\n",
    "    In this case we will get data stored in tuple form\n",
    "\"\"\"\n",
    "\n",
    "def test1(*args):\n",
    "    \n",
    "    return args\n",
    "\n",
    "print(test1(1,2,3,4,5,6,7,8))\n",
    "print(test1(list(range(1,11))))\n",
    "type(test1())"
   ]
  },
  {
   "cell_type": "code",
   "execution_count": 6,
   "id": "10a086c8-6f2b-4192-bddc-3816ed6ed82e",
   "metadata": {},
   "outputs": [
    {
     "name": "stdout",
     "output_type": "stream",
     "text": [
      "{'a': [1, 2, 3], 'b': (123, 4, 5), 'c': 'I am Leaarner', 'd': {1, 2}}\n"
     ]
    },
    {
     "data": {
      "text/plain": [
       "dict"
      ]
     },
     "execution_count": 6,
     "metadata": {},
     "output_type": "execute_result"
    }
   ],
   "source": [
    "\"\"\"\n",
    "    **kwargs\n",
    "    when we need multiple argument from to be stored in key-value pair\n",
    "    in dict from **kwargs can be used it return dict type data \n",
    "    \"\"\"\n",
    "\n",
    "def test2(**kwargs):\n",
    "    \n",
    "    return kwargs\n",
    "print(test2(a=[1,2,3],b=(123,4,5),c=\"I am Leaarner\",d={1,2,1,2}))\n",
    "type(test2())"
   ]
  },
  {
   "cell_type": "code",
   "execution_count": 11,
   "id": "066558ff-23dc-4390-8cfc-660d2a09b33d",
   "metadata": {},
   "outputs": [
    {
     "name": "stdout",
     "output_type": "stream",
     "text": [
      "2\n",
      "4\n",
      "6\n",
      "8\n",
      "10\n",
      "12\n"
     ]
    }
   ],
   "source": [
    "#solution 3:\n",
    "\n",
    "\"\"\"\n",
    "An iterator is a key word in python which goes to each items or element of an assinged data structure like list, tuple, set, \n",
    "dictonary one by one and push for specefic function of one or multiple manupulation through code it has been created for.\n",
    "The iterator object is initialized using the iter() method. It uses the next() method for iteration.\"\"\"\n",
    "\n",
    "\n",
    "l=[2,4,6,8,10,12,14,16,18,20]\n",
    "mx=iter(l)\n",
    "\n",
    "print(next(mx))\n",
    "print(next(mx))\n",
    "print(next(mx))\n",
    "print(next(mx))\n",
    "print(next(mx))\n",
    "print(next(mx))"
   ]
  },
  {
   "cell_type": "code",
   "execution_count": 16,
   "id": "dd24cdc0-5d9f-4ffa-8c55-bb89c497d3e4",
   "metadata": {},
   "outputs": [
    {
     "name": "stdout",
     "output_type": "stream",
     "text": [
      "0\n",
      "1\n",
      "2\n",
      "3\n",
      "4\n",
      "5\n"
     ]
    }
   ],
   "source": [
    "#solution 4:\n",
    "\n",
    "\"\"\" Generator function in Python is a function that is commonly used to return a sequence of values. \n",
    "    Generator function behaves like a normal function but rather it uses a yield statement to return a value instead of return statement. \n",
    "    If the body of a function contains yield statement, the function automatically becomes a generator function. \"\"\"\n",
    "\n",
    "def count_x(n):\n",
    "    for i in range(0,n+1):\n",
    "        yield i\n",
    "gen_obj=count_x(10)\n",
    "\n",
    "print(next(gen_obj))\n",
    "print(next(gen_obj))\n",
    "print(next(gen_obj))\n",
    "print(next(gen_obj))\n",
    "print(next(gen_obj))\n",
    "print(next(gen_obj))"
   ]
  },
  {
   "cell_type": "code",
   "execution_count": 20,
   "id": "5be38b37-c8ef-45e1-a8ca-b727e914d372",
   "metadata": {},
   "outputs": [
    {
     "name": "stdout",
     "output_type": "stream",
     "text": [
      "1\n",
      "2\n",
      "3\n",
      "5\n",
      "7\n",
      "11\n",
      "13\n",
      "17\n",
      "19\n",
      "23\n",
      "29\n",
      "31\n",
      "37\n",
      "41\n",
      "43\n",
      "47\n",
      "53\n",
      "59\n",
      "61\n",
      "67\n",
      "71\n",
      "73\n",
      "79\n",
      "83\n"
     ]
    }
   ],
   "source": [
    "#solution 5:\n",
    "\n",
    "n=1000\n",
    "def get_prime(n):\n",
    "    for x in range(1,n):\n",
    "        for y in range(2,x):\n",
    "            if x%y==0:\n",
    "                break\n",
    "        else:\n",
    "            yield x\n",
    "m=get_prime(1000)\n",
    "\n",
    "print(next(m))\n",
    "print(next(m))\n",
    "print(next(m))\n",
    "print(next(m))\n",
    "print(next(m))\n",
    "print(next(m))\n",
    "print(next(m))\n",
    "print(next(m))\n",
    "print(next(m))\n",
    "print(next(m))\n",
    "print(next(m))\n",
    "print(next(m))\n",
    "print(next(m))\n",
    "print(next(m))\n",
    "print(next(m))\n",
    "print(next(m))\n",
    "print(next(m))\n",
    "print(next(m))\n",
    "print(next(m))\n",
    "print(next(m))\n",
    "print(next(m))\n",
    "print(next(m))\n",
    "print(next(m))\n",
    "print(next(m))"
   ]
  },
  {
   "cell_type": "code",
   "execution_count": 21,
   "id": "f29dc193-54f9-4257-9325-c92eeb43dd86",
   "metadata": {},
   "outputs": [
    {
     "name": "stdout",
     "output_type": "stream",
     "text": [
      "0\n",
      "1\n",
      "1\n",
      "2\n",
      "3\n",
      "5\n",
      "8\n",
      "13\n",
      "21\n",
      "34\n"
     ]
    }
   ],
   "source": [
    "#solution 6:\n",
    "\n",
    "n=10\n",
    "a,b=0,1\n",
    "counter=0\n",
    "while counter<n:\n",
    "    print(a)\n",
    "    c=a+b\n",
    "    a=b\n",
    "    b=c\n",
    "    counter=counter+1"
   ]
  },
  {
   "cell_type": "code",
   "execution_count": 23,
   "id": "13408c3d-6612-4dce-9159-54f5eca73d08",
   "metadata": {},
   "outputs": [
    {
     "data": {
      "text/plain": [
       "['p', 'w', 's', 'k', 'i', 'l', 'l', 's']"
      ]
     },
     "execution_count": 23,
     "metadata": {},
     "output_type": "execute_result"
    }
   ],
   "source": [
    "#solution 7:\n",
    "\n",
    "a=\"pwskills\"\n",
    "\n",
    "[i for i in a]"
   ]
  },
  {
   "cell_type": "code",
   "execution_count": 24,
   "id": "ab8a48ec-ab6a-47e9-af6a-e54951baef25",
   "metadata": {},
   "outputs": [
    {
     "name": "stdin",
     "output_type": "stream",
     "text": [
      "enter a number :  500\n"
     ]
    },
    {
     "name": "stdout",
     "output_type": "stream",
     "text": [
      "the number is not palindrome\n"
     ]
    }
   ],
   "source": [
    "#solution 8:\n",
    "\n",
    "num=int(input(\"enter a number : \"))\n",
    "temp=num\n",
    "rev=0\n",
    "while(num>0):\n",
    "    dig=num%10\n",
    "    rev=rev*10+dig\n",
    "    num=num//10\n",
    "if(temp==rev):\n",
    "    print(\"the number is palindrome! \")\n",
    "else:\n",
    "    print(\"the number is not palindrome\")"
   ]
  },
  {
   "cell_type": "code",
   "execution_count": 26,
   "id": "8cf82c9b-5a60-4774-b7eb-b529b141bf7f",
   "metadata": {},
   "outputs": [
    {
     "name": "stdin",
     "output_type": "stream",
     "text": [
      "enter a number :  123321\n"
     ]
    },
    {
     "name": "stdout",
     "output_type": "stream",
     "text": [
      "the number is palindrome! \n"
     ]
    }
   ],
   "source": [
    "num=int(input(\"enter a number : \"))\n",
    "temp=num\n",
    "rev=0\n",
    "while(num>0):\n",
    "    dig=num%10\n",
    "    rev=rev*10+dig\n",
    "    num=num//10\n",
    "if(temp==rev):\n",
    "    print(\"the number is palindrome! \")\n",
    "else:\n",
    "    print(\"the number is not palindrome\")"
   ]
  },
  {
   "cell_type": "code",
   "execution_count": null,
   "id": "b7530365-693b-4b94-b459-8328504ba265",
   "metadata": {},
   "outputs": [],
   "source": [
    "#solution 9:\n",
    "\n",
    "l1=[i for i in range(1,101)]\n",
    "l2=[x for x in renge]"
   ]
  }
 ],
 "metadata": {
  "kernelspec": {
   "display_name": "Python 3 (ipykernel)",
   "language": "python",
   "name": "python3"
  },
  "language_info": {
   "codemirror_mode": {
    "name": "ipython",
    "version": 3
   },
   "file_extension": ".py",
   "mimetype": "text/x-python",
   "name": "python",
   "nbconvert_exporter": "python",
   "pygments_lexer": "ipython3",
   "version": "3.10.8"
  }
 },
 "nbformat": 4,
 "nbformat_minor": 5
}
