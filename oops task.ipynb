{
 "cells": [
  {
   "cell_type": "code",
   "execution_count": 1,
   "id": "cffb6d51-c514-4e8c-b4b4-0a91a52506d4",
   "metadata": {},
   "outputs": [],
   "source": [
    "#oops task assignment:\n",
    "\n"
   ]
  },
  {
   "cell_type": "code",
   "execution_count": 2,
   "id": "5ec1695c-a67e-49d8-afdc-0c250d1cecf3",
   "metadata": {},
   "outputs": [],
   "source": [
    "#solution 1:\n",
    "\n",
    "class car:\n",
    "    \n",
    "    def __init__(self,year,make,model,speed):\n",
    "        \n",
    "        self.__year=year\n",
    "        self.__make=make\n",
    "        self.__model=model\n",
    "        self.__speed=speed\n",
    "        \n",
    "        \n",
    "    def set_speed(self,speed):\n",
    "        self.__speed=0 if speed<0 else speed\n",
    "        \n",
    "    def get_speed(self):\n",
    "        return self.__speed"
   ]
  },
  {
   "cell_type": "code",
   "execution_count": 3,
   "id": "c0a44c14-b783-4fa1-879d-1ce1108775cd",
   "metadata": {},
   "outputs": [],
   "source": [
    "c=car(2021,\"toyata\",\"invove\",123)"
   ]
  },
  {
   "cell_type": "code",
   "execution_count": 4,
   "id": "18847269-8dbb-4cba-812e-833346ecb225",
   "metadata": {},
   "outputs": [
    {
     "data": {
      "text/plain": [
       "123"
      ]
     },
     "execution_count": 4,
     "metadata": {},
     "output_type": "execute_result"
    }
   ],
   "source": [
    "c.get_speed()"
   ]
  },
  {
   "cell_type": "code",
   "execution_count": 14,
   "id": "daf461a7-4b4e-41d7-8e7e-94beb24febb2",
   "metadata": {},
   "outputs": [],
   "source": [
    "#solution 2:\n",
    "\n",
    "class car:\n",
    "    \n",
    "    def __init__(self,year,make,model,seating_capacity):\n",
    "        \n",
    "        self.__year=year\n",
    "        self.__make=make\n",
    "        self.__model=model\n",
    "        self.__seating_capacity=seating_capacity\n",
    "        \n",
    "        \n",
    "    def seating_capacity(self,seating_capacity):\n",
    "        self.seating_capacity=0 if seating_capacity<0 else seating_capacity\n",
    "        \n",
    "    def get_seating_capacity(self):\n",
    "        return self.__seating_capacity"
   ]
  },
  {
   "cell_type": "code",
   "execution_count": 15,
   "id": "5a3d6cb4-4815-4f32-9b67-3edcb3168d54",
   "metadata": {},
   "outputs": [],
   "source": [
    "c=car(2021,\"toyata\",\"invove\",12)"
   ]
  },
  {
   "cell_type": "code",
   "execution_count": 16,
   "id": "09a900d3-295d-4ff0-af60-9c4e78549370",
   "metadata": {},
   "outputs": [
    {
     "data": {
      "text/plain": [
       "12"
      ]
     },
     "execution_count": 16,
     "metadata": {},
     "output_type": "execute_result"
    }
   ],
   "source": [
    "c.get_seating_capacity()"
   ]
  },
  {
   "cell_type": "code",
   "execution_count": 7,
   "id": "e4e1c6fd-d85f-400c-b0f9-e666ee578573",
   "metadata": {},
   "outputs": [],
   "source": [
    "#solution 3:\n",
    "\n",
    "\"\"\"\n",
    "Multiple inheritance in python\n",
    "--------------------------------------\n",
    "\n",
    "when a class is derived from more than one base it is called\n",
    "multiple inheritance. the derived class inherits all the features\n",
    "of the base class\n",
    "\"\"\"\n",
    "\n",
    "class class1():\n",
    "    \n",
    "    def test_class1(self):\n",
    "        return\"this is class 1\"\n",
    "class class2():\n",
    "    \n",
    "    def test_class2(self):\n",
    "        \n",
    "        return\"this is class 2\"\n",
    "\n",
    "\n",
    "class class3(class1,class2):\n",
    "    \n",
    "    def test_class3(self):\n",
    "        return\"this is class 3\""
   ]
  },
  {
   "cell_type": "code",
   "execution_count": 10,
   "id": "2d5e6bf6-4dbe-4498-ab75-4af41e198261",
   "metadata": {},
   "outputs": [],
   "source": [
    "a=class3()"
   ]
  },
  {
   "cell_type": "code",
   "execution_count": 11,
   "id": "4745896a-ce7c-4a71-ad3b-64144db1918d",
   "metadata": {},
   "outputs": [
    {
     "data": {
      "text/plain": [
       "'this is class 3'"
      ]
     },
     "execution_count": 11,
     "metadata": {},
     "output_type": "execute_result"
    }
   ],
   "source": [
    "a.test_class3()"
   ]
  },
  {
   "cell_type": "code",
   "execution_count": 12,
   "id": "4c9ce178-b0db-4998-b17d-4217e3c288fe",
   "metadata": {},
   "outputs": [
    {
     "name": "stdout",
     "output_type": "stream",
     "text": [
      "setter of x called\n",
      "getter of x called\n"
     ]
    }
   ],
   "source": [
    "#solution 4:\n",
    "\n",
    "'''\n",
    "getter and setter method in python\n",
    "---------------------------------------\n",
    "\n",
    "These methods allow you to access and mutate private attributes\n",
    "while maintaining encapsulation.\n",
    "\n",
    "Gatter: a method that allows you to access an attribute \n",
    "in given class \n",
    "\n",
    "Satter: a method that allows you to set or mutate the value \n",
    "of an attribute in a class\n",
    "\n",
    "'''\n",
    "\n",
    "\n",
    "class C(object):\n",
    "    def __init__(self):\n",
    "        self._x = None\n",
    "\n",
    "    @property\n",
    "    def x(self):\n",
    "        \"\"\"I'm the 'x' property.\"\"\"\n",
    "        print(\"getter of x called\")\n",
    "        return self._x\n",
    "\n",
    "    @x.setter\n",
    "    def x(self, value):\n",
    "        print(\"setter of x called\")\n",
    "        self._x = value\n",
    "\n",
    "    @x.deleter\n",
    "    def x(self):\n",
    "        print(\"deleter of x called\")\n",
    "        del self._x\n",
    "\n",
    "\n",
    "c = C()\n",
    "c.x = 'foo'  # setter called\n",
    "foo = c.x    # getter called"
   ]
  },
  {
   "cell_type": "code",
   "execution_count": 13,
   "id": "cb9f724a-6726-4cfc-877e-7c6d65715f31",
   "metadata": {},
   "outputs": [
    {
     "name": "stdout",
     "output_type": "stream",
     "text": [
      "Inside Parent\n",
      "Inside Child\n"
     ]
    }
   ],
   "source": [
    "#solution 5:\n",
    "\n",
    "\"\"\"\n",
    "Method overriding in python\n",
    "-------------------------------\n",
    "\n",
    "Method overriding is an ability of any object-oriented programming \n",
    "language that allows a subclass or child class to provide a \n",
    "specific implementation of a method that is already provided by\n",
    "one of its super-classes or parent classes. When a method in a \n",
    "subclass has the same name, same parameters or signature and \n",
    "same return type(or sub-type) as a method in its super-class, then the \n",
    "method in the subclass is said to override the method in the super-class.\n",
    "\n",
    "\"\"\"\n",
    "\n",
    "# Python program to demonstrate\n",
    "# method overriding\n",
    "\n",
    "\n",
    "# Defining parent class\n",
    "class Parent():\n",
    "\t\n",
    "\t# Constructor\n",
    "\tdef __init__(self):\n",
    "\t\tself.value = \"Inside Parent\"\n",
    "\t\t\n",
    "\t# Parent's show method\n",
    "\tdef show(self):\n",
    "\t\tprint(self.value)\n",
    "\t\t\n",
    "# Defining child class\n",
    "class Child(Parent):\n",
    "\t\n",
    "\t# Constructor\n",
    "\tdef __init__(self):\n",
    "\t\tself.value = \"Inside Child\"\n",
    "\t\t\n",
    "\t# Child's show method\n",
    "\tdef show(self):\n",
    "\t\tprint(self.value)\n",
    "\t\t\n",
    "\t\t\n",
    "# Driver's code\n",
    "obj1 = Parent()\n",
    "obj2 = Child()\n",
    "\n",
    "obj1.show()\n",
    "obj2.show()\n",
    "\n"
   ]
  },
  {
   "cell_type": "code",
   "execution_count": null,
   "id": "00f640cb-6e2a-4b5d-a4e2-6c08b6ce9381",
   "metadata": {},
   "outputs": [],
   "source": []
  }
 ],
 "metadata": {
  "kernelspec": {
   "display_name": "Python 3 (ipykernel)",
   "language": "python",
   "name": "python3"
  },
  "language_info": {
   "codemirror_mode": {
    "name": "ipython",
    "version": 3
   },
   "file_extension": ".py",
   "mimetype": "text/x-python",
   "name": "python",
   "nbconvert_exporter": "python",
   "pygments_lexer": "ipython3",
   "version": "3.10.8"
  }
 },
 "nbformat": 4,
 "nbformat_minor": 5
}
