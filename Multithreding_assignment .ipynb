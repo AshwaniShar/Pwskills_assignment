{
 "cells": [
  {
   "cell_type": "markdown",
   "id": "726332e9-1656-4a6f-8929-ce672c66d05d",
   "metadata": {},
   "source": [
    "Multithreading assignment:"
   ]
  },
  {
   "cell_type": "markdown",
   "id": "b7006f7d-2202-412d-8acc-34d240a86c0d",
   "metadata": {
    "tags": []
   },
   "source": [
    "#solution 1:\n",
    "\n",
    "Multithreading in python\n",
    "-------------------------------\n",
    "\n",
    "multithreading is a way of achieving multitasking, \n",
    "in this concept of thread is used \n",
    "\n",
    "In computing, a process is an instance of a computer program that is being executed. Any process has 3 basic components:\n",
    "\n",
    "1.An executable program.\n",
    "2.The associated data needed by the program (variables, work space, buffers, etc.)\n",
    "3.The execution context of the program (State of process)\n",
    "\n",
    "\n",
    "\n",
    "A thread is an entity within a process that can be scheduled for execution. \n",
    "Also, it is the smallest unit of processing that can be performed in an OS \n",
    "(Operating System). In simple words, a thread is a sequence of such instructions\n",
    "within a program that can be executed independently of other code. For\n",
    "simplicity, you can assume that a thread is simply a subset of a process! A thread \n",
    "contains all this information in a Thread Control Block (TCB):\n",
    "\n",
    "\n",
    "\n",
    "Thread Identifier: Unique id (TID) is assigned to every new thread\n",
    "Stack pointer: Points to thread’s stack in the process. Stack contains the local variables under thread’s scope.\n",
    "Program counter: a register which stores the address of the instruction currently being executed by thread.\n",
    "Thread state: can be running, ready, waiting, start or done.\n",
    "Thread’s register set: registers assigned to thread for computations.\n",
    "Parent process Pointer: A pointer to the Process control block (PCB) of the process that the thread lives on."
   ]
  },
  {
   "cell_type": "code",
   "execution_count": null,
   "id": "efe243a7-900e-4320-bb79-be4814dde6e8",
   "metadata": {},
   "outputs": [],
   "source": []
  },
  {
   "cell_type": "markdown",
   "id": "2ffeeaee-759f-4b51-8d84-63658efba551",
   "metadata": {
    "tags": []
   },
   "source": [
    "#solution 2:\n",
    "\n",
    "currentThread\n",
    "--------------\n",
    "\n",
    "We use the threading.current_thread() function to get the current thread object.\n",
    "\n",
    "print(\"Task 1 assigned to thread: {}\".format(threading.current_thread().name))\n",
    "\n",
    "\n",
    "\n",
    "activecount\n",
    "------------\n",
    "\n",
    "This function returns the number of currently active Thread objects. \n",
    "This value is equal to the length of the list that the function enumerate() returns. \n",
    "For example,\n",
    "\n",
    "threading.active_count()\n",
    "\n",
    "\n",
    "\n",
    "\n",
    "enunerate()\n",
    "------------------\n",
    "\n",
    "Enumerate() method adds a counter to an iterable and returns it in a form of enumerating object. This enumerated object can then be used directly for loops or converted into a list of tuples using the list() function.\n",
    "\n",
    "enumerate(iterable, start=0)"
   ]
  },
  {
   "cell_type": "code",
   "execution_count": null,
   "id": "cedbeb91-b714-4167-822b-2ebe7ef04570",
   "metadata": {},
   "outputs": [],
   "source": []
  },
  {
   "cell_type": "markdown",
   "id": "c249ea0b-0496-40a5-9a91-286e3f9866e0",
   "metadata": {},
   "source": [
    "#solution 3:\n",
    "\n",
    "\n",
    "run()\n",
    "-------\n",
    "this function invokes the callable object we passed to the constructor as the target argument if it exists. While calling the target, the args and kwargs are given to the object. We can override this function in a subclass.\n",
    "\n",
    "\n",
    "\n",
    "start()\n",
    "--------\n",
    "This function starts the thread activity. We get a RuntimeError if we call it more than once. So,it should be called only once for a thread instance. This is shown in the below example,\n",
    "\n",
    "threading.Thread.start(threading.current_thread())\n",
    "\n",
    "join()\n",
    "-------\n",
    "\n",
    "This function is used when we want the program to wait until the thread execution is completed. It blocks the calling of thread until the one on which we call join() terminates normally or with an exception, or until timeout is reached.\n",
    "\n",
    "threading.Thread.join(threading.current_thread())\n",
    "\n",
    "\n",
    "\n",
    "isalive()\n",
    "-----------\n",
    "\n",
    "This function is used to check if the thread is alive or not. It returns true for a thread if it is in the phase between the starting of the run() function and the stage after it terminates. We can check it as shown below.\n",
    "\n",
    "threading.Thread.is_alive(threading.current_thread())"
   ]
  },
  {
   "cell_type": "code",
   "execution_count": null,
   "id": "aace2c7a-0a6e-4fb7-b8f6-52b955f5044d",
   "metadata": {},
   "outputs": [],
   "source": []
  },
  {
   "cell_type": "code",
   "execution_count": 18,
   "id": "d2bc1e5e-537f-4f44-9686-5aa0f56a85a5",
   "metadata": {},
   "outputs": [
    {
     "name": "stdout",
     "output_type": "stream",
     "text": [
      "enter the number 5\n"
     ]
    },
    {
     "name": "stdout",
     "output_type": "stream",
     "text": [
      "squre of the given number is  25\n",
      "cube of the given number is  125\n"
     ]
    }
   ],
   "source": [
    "#solution 4:\n",
    "\n",
    "\n",
    "\n",
    "\n",
    "import threading\n",
    "\n",
    "x = int(input(\"enter the number\"))\n",
    "\n",
    "class T1 (threading.Thread):\n",
    "    def __init__(self):\n",
    "        super(T1 , self).__init__(name=\"T1 thread\")\n",
    "        y=x*x\n",
    "        print ('squre of the given number is ',y)\n",
    "\n",
    "class T2 (threading.Thread):\n",
    "    def __init__(self):\n",
    "        super(T2 , self).__init__(name=\"T2 thread\")\n",
    "        z =x*x*x\n",
    "        print ('cube of the given number is ',z)\n",
    "\n",
    "\n",
    "\n",
    "t1 = T1()\n",
    "t2 = T2()\n",
    "\n",
    "t1.start()\n",
    "t2.start()\n"
   ]
  },
  {
   "cell_type": "code",
   "execution_count": null,
   "id": "42556b47-51e1-4a2c-b845-ecc8975b6c18",
   "metadata": {},
   "outputs": [],
   "source": []
  },
  {
   "cell_type": "markdown",
   "id": "19fb50b4-15ef-4aae-854b-7516e7b86d73",
   "metadata": {},
   "source": [
    "#solution 5:\n",
    "\n",
    "The advantages are of multithreading:\n",
    "1. Since the threads are independent of each other, the user is not blocked.\n",
    "2. Since the threads do parallel execution, the resources of the device can be used efficiently.\n",
    "3. Enhance the performance of the multi-processor machines.\n",
    "4. Many of the GUIs and CPUs used in the current days include multithreading.\n",
    "\n",
    "The disadvantages are of multithreading:\n",
    "1. The complexity increases with the increase in the number of threads\n",
    "2. It is necessary to maintain synchronization while sharing the resources among multiple threads\n",
    "3. It is difficult to debug the programs with threads as the result is sometimes unpredictable.\n",
    "4. The process of constructing and synchronizing the threads is CPU/memory intensive."
   ]
  },
  {
   "cell_type": "code",
   "execution_count": 17,
   "id": "8f05a138-3047-47ab-9af6-9a9e1c646edd",
   "metadata": {},
   "outputs": [],
   "source": [
    "\n",
    "\n"
   ]
  },
  {
   "cell_type": "code",
   "execution_count": 2,
   "id": "aee4ddae-32e5-4430-9d62-fa40ab48aa98",
   "metadata": {},
   "outputs": [
    {
     "name": "stdout",
     "output_type": "stream",
     "text": [
      "Iteration 0 and the value of a = 400000\n",
      "Iteration 1 and the value of a = 400000\n",
      "Iteration 2 and the value of a = 400000\n",
      "Iteration 3 and the value of a = 400000\n",
      "Iteration 4 and the value of a = 400000\n"
     ]
    }
   ],
   "source": [
    "#solution 6:\n",
    "\"\"\"\n",
    "Race condition\n",
    "-----------------\n",
    "\n",
    "the problem of race conditions. This occurs in the situation when multiple threads\n",
    "try to modify the same shared data. Since the threads are running simultaneously, there is a \n",
    "lot of chance of ambiguous output or change\n",
    "\"\"\"\n",
    "\n",
    "\n",
    "import threading\n",
    "\n",
    "a=0\n",
    "\n",
    "def inc():\n",
    "    global a\n",
    "    a += 1\n",
    "\n",
    "def call_inc():\n",
    "    for _ in range(200000):\n",
    "        inc()\n",
    "\n",
    "def task():\n",
    "    global a\n",
    "\n",
    "    a = 0\n",
    "\n",
    "    # creating the threads with the target as call_inc() function\n",
    "    trd1 = threading.Thread(target=call_inc)\n",
    "    trd2 = threading.Thread(target=call_inc)\n",
    "\n",
    "    # starting the threads\n",
    "    trd1.start()\n",
    "    trd2.start()\n",
    "\n",
    "    # waiting til thread 1 is done with the execution\n",
    "    trd1.join()\n",
    "    trd2.join()\n",
    "\n",
    "\n",
    "for i in range(5):\n",
    "    task()\n",
    "    print(f\"Iteration {i} and the value of a = {a}\")"
   ]
  },
  {
   "cell_type": "code",
   "execution_count": 4,
   "id": "b1b234ca-6271-4da1-85d5-a9f54fb5fae8",
   "metadata": {},
   "outputs": [
    {
     "name": "stdout",
     "output_type": "stream",
     "text": [
      "thread t1 about to lock l1\n",
      "thread t1 has lock l1\n",
      "thread t2 about to lock l2\n",
      "thread t2 has lock l2\n",
      "thread t1 about to lock l2\n",
      "thread t2 about to lock l1\n"
     ]
    }
   ],
   "source": [
    "'''\n",
    "deadlock\n",
    "-----------\n",
    "\n",
    "All a deadlock means is that one or more threads are blocked from making any progress, so you can simulate it with a single thread. Just put a while True: around the sleep(10).\n",
    "\n",
    "'''\n",
    "\n",
    "\n",
    "import threading\n",
    "import time\n",
    "\n",
    "l1=threading.Lock()\n",
    "l2 = threading.Lock()\n",
    "\n",
    "def f1(name):\n",
    "    print('thread',name,'about to lock l1')\n",
    "    with l1:\n",
    "        print('thread',name,'has lock l1')\n",
    "        time.sleep(0.3)\n",
    "        print('thread',name,'about to lock l2')\n",
    "        with l2:\n",
    "            print('thread',name,'run into deadLock,\\nthis line will never run')\n",
    "\n",
    "def f2(name):\n",
    "    print('thread',name,'about to lock l2')\n",
    "    with l2:\n",
    "        print('thread',name,'has lock l2')\n",
    "        time.sleep(0.3)\n",
    "        print('thread',name,'about to lock l1')\n",
    "        with l1:\n",
    "            print('thread',name,'run into deadLock,\\nthis line will never run')\n",
    "\n",
    "if __name__ == '__main__':\n",
    "    t1=threading.Thread(target=f1, args=['t1',])\n",
    "    t2=threading.Thread(target=f2, args=['t2',])\n",
    "\n",
    "    t1.start()\n",
    "    t2.start()\n"
   ]
  },
  {
   "cell_type": "code",
   "execution_count": null,
   "id": "533ab98b-daf0-4e0e-8518-4eb56d9e036c",
   "metadata": {},
   "outputs": [],
   "source": []
  }
 ],
 "metadata": {
  "kernelspec": {
   "display_name": "Python 3 (ipykernel)",
   "language": "python",
   "name": "python3"
  },
  "language_info": {
   "codemirror_mode": {
    "name": "ipython",
    "version": 3
   },
   "file_extension": ".py",
   "mimetype": "text/x-python",
   "name": "python",
   "nbconvert_exporter": "python",
   "pygments_lexer": "ipython3",
   "version": "3.10.8"
  }
 },
 "nbformat": 4,
 "nbformat_minor": 5
}
