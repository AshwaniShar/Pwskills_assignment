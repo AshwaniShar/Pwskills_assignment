{
 "cells": [
  {
   "cell_type": "code",
   "execution_count": 1,
   "id": "b30f28b5-9335-4e49-9b9d-57466b92d514",
   "metadata": {},
   "outputs": [],
   "source": [
    "#loop asssignment\n"
   ]
  },
  {
   "cell_type": "code",
   "execution_count": 3,
   "id": "5705b01c-99ca-464f-b563-4117ea97d85c",
   "metadata": {},
   "outputs": [
    {
     "name": "stdout",
     "output_type": "stream",
     "text": [
      "2\n",
      "3\n",
      "4\n",
      "5\n",
      "6\n",
      "7\n",
      "8\n",
      "9\n",
      "10\n",
      "11\n"
     ]
    }
   ],
   "source": [
    "#Solution 1:\n",
    "''' for loop: in this this control flow statement that execute code repeatedly for a particular \n",
    "number of iteration. in this flow statement, the keyword use is for, the for loop is used when \n",
    "number of iteration is already used.'''\n",
    "\n",
    "a=[1,2,3,4,5,6,7,8,9,10]\n",
    "for i in a:\n",
    "    print(i+1)\n",
    "    "
   ]
  },
  {
   "cell_type": "code",
   "execution_count": 21,
   "id": "2cff9720-943a-4b3f-89e2-f377e0870deb",
   "metadata": {},
   "outputs": [
    {
     "name": "stdout",
     "output_type": "stream",
     "text": [
      "2\n",
      "3\n",
      "4\n",
      "5\n",
      "6\n",
      "7\n",
      "8\n",
      "9\n",
      "10\n",
      "11\n"
     ]
    }
   ],
   "source": [
    "'''while loop: in this control system that execute a songle statement or a group of statement\n",
    "for the given true condition. the statement repeats itself till the boolean values become false.\n",
    "in a while loop, the condition is tested at the start, also known as the pre-test loop.'''\n",
    "\n",
    "i=1\n",
    "while i<=10:\n",
    "    print(i+1)\n",
    "    i +=1\n",
    "    "
   ]
  },
  {
   "cell_type": "code",
   "execution_count": 24,
   "id": "ba1fd9b0-59a3-489a-97f4-f20121608821",
   "metadata": {},
   "outputs": [
    {
     "name": "stdout",
     "output_type": "stream",
     "text": [
      "sum of the first 10 natural number :  55\n"
     ]
    }
   ],
   "source": [
    "#solution 2:\n",
    " \n",
    "#using for loop:\n",
    "l=list(range(1,11))\n",
    "sum=0\n",
    "\n",
    "for i in l:\n",
    "    sum=sum+i    \n",
    "print(\"sum of the first 10 natural number : \",sum)"
   ]
  },
  {
   "cell_type": "code",
   "execution_count": 22,
   "id": "3fa664b9-8693-4855-b878-60c0a64f48ac",
   "metadata": {},
   "outputs": [
    {
     "data": {
      "text/plain": [
       "55"
      ]
     },
     "execution_count": 22,
     "metadata": {},
     "output_type": "execute_result"
    }
   ],
   "source": [
    "#using while loop:\n",
    "\n",
    "n=10\n",
    "starting_point=0\n",
    "counter=1\n",
    "\n",
    "while counter <=n:\n",
    "    starting_point = starting_point+counter\n",
    "    counter = counter+1\n",
    "starting_point"
   ]
  },
  {
   "cell_type": "code",
   "execution_count": 9,
   "id": "1a4e524d-d2a9-437f-a5e5-635c94f84378",
   "metadata": {},
   "outputs": [
    {
     "name": "stdin",
     "output_type": "stream",
     "text": [
      "enter the unit consume in month :  100\n"
     ]
    },
    {
     "name": "stdout",
     "output_type": "stream",
     "text": [
      "450.0\n"
     ]
    }
   ],
   "source": [
    "#solution 3:\n",
    "a=int(input(\"enter the unit consume in month : \"))\n",
    "if(a<=100):\n",
    "    amount=a*4.5\n",
    "elif(a<=200):\n",
    "    amount=(100*4.5)+(a-100)*6\n",
    "elif(a<=300):\n",
    "    amount=(100*4.5)+(100*6)+(a-200)*10\n",
    "else:\n",
    "    amount=(100*4.5)+(100*6)+(100*10)+(a-300)*20\n",
    "print(amount)"
   ]
  },
  {
   "cell_type": "code",
   "execution_count": 28,
   "id": "3791eb4e-e43e-487a-ade0-37ea9de97a65",
   "metadata": {},
   "outputs": [
    {
     "name": "stdout",
     "output_type": "stream",
     "text": [
      "[8, 64, 125, 216, 512, 1000, 1728, 2744, 3375, 4096, 5832, 8000, 10648, 13824, 15625, 17576, 21952, 27000, 32768, 39304, 42875, 46656, 54872, 64000, 74088, 85184, 91125, 97336, 110592, 125000, 140608, 157464, 166375, 175616, 195112, 216000, 238328, 262144, 274625, 287496, 314432, 343000, 373248, 405224, 421875, 438976, 474552, 512000, 551368, 592704, 614125, 636056, 681472, 729000, 778688, 830584, 857375, 884736, 941192, 1000000]\n"
     ]
    }
   ],
   "source": [
    "#solution 4:\n",
    "\n",
    "#using for loop:\n",
    "\n",
    "\n",
    "l=list(range(1,101))\n",
    "m=[]\n",
    "\n",
    "for i in l:\n",
    "    n=i*i*i\n",
    "    if(n%4==0 or n%5==0):\n",
    "        m.append(n)\n",
    "print(m)\n",
    "    "
   ]
  },
  {
   "cell_type": "code",
   "execution_count": 29,
   "id": "c7cfea1b-b4a8-4425-80c1-16fca59376b0",
   "metadata": {},
   "outputs": [
    {
     "name": "stdout",
     "output_type": "stream",
     "text": [
      "[8, 64, 125, 216, 512, 1000, 1728, 2744, 3375, 4096, 5832, 8000, 10648, 13824, 15625, 17576, 21952, 27000, 32768, 39304, 42875, 46656, 54872, 64000, 74088, 85184, 91125, 97336, 110592, 125000, 140608, 157464, 166375, 175616, 195112, 216000, 238328, 262144, 274625, 287496, 314432, 343000, 373248, 405224, 421875, 438976, 474552, 512000, 551368, 592704, 614125, 636056, 681472, 729000, 778688, 830584, 857375, 884736, 941192, 1000000]\n"
     ]
    }
   ],
   "source": [
    "#using while loop:\n",
    "\n",
    "i=1\n",
    "m=[]\n",
    "while i<=100:\n",
    "    n=i*i*i\n",
    "    if(n%4==0 or n%5==0):\n",
    "        m.append(n)\n",
    "    i=i+1\n",
    "print(m)"
   ]
  },
  {
   "cell_type": "code",
   "execution_count": 30,
   "id": "13e1482f-d13d-4a45-8b4a-33dc86ec53b4",
   "metadata": {},
   "outputs": [
    {
     "name": "stdout",
     "output_type": "stream",
     "text": [
      "number of vowels :  12\n"
     ]
    }
   ],
   "source": [
    "#solution 5:\n",
    "\n",
    "a=\"i want to become a data scientist\"\n",
    "count=0\n",
    "for i in range(len(a)):\n",
    "    if(a[i]=='a'or a[i]=='e'or a[i]=='i'or a[i]=='o'or a[i]=='u'):\n",
    "        count =count+1    \n",
    "print(\"number of vowels : \",count)"
   ]
  },
  {
   "cell_type": "code",
   "execution_count": null,
   "id": "2a5885d1-bee2-490e-b135-9ced7943fd27",
   "metadata": {},
   "outputs": [],
   "source": []
  }
 ],
 "metadata": {
  "kernelspec": {
   "display_name": "Python 3 (ipykernel)",
   "language": "python",
   "name": "python3"
  },
  "language_info": {
   "codemirror_mode": {
    "name": "ipython",
    "version": 3
   },
   "file_extension": ".py",
   "mimetype": "text/x-python",
   "name": "python",
   "nbconvert_exporter": "python",
   "pygments_lexer": "ipython3",
   "version": "3.10.8"
  }
 },
 "nbformat": 4,
 "nbformat_minor": 5
}
