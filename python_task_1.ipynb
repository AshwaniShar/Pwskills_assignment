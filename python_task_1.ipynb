{
 "cells": [
  {
   "cell_type": "code",
   "execution_count": 2,
   "id": "f619a249-af21-4b5b-823d-a18ce7c9cab6",
   "metadata": {},
   "outputs": [
    {
     "name": "stdout",
     "output_type": "stream",
     "text": [
      "The extracted list is\n",
      " [1, 2, 3, 4, 44, 55, 66, 34, 56, 78, 89, 34, 1, 2, 3, 1, 34, 4, 55, 67, 78, 89, 45, 22, 61, 34, 56]\n",
      "The Product of all numbers is::\n",
      "\n",
      " 4134711838987085478833841242112000\n"
     ]
    }
   ],
   "source": [
    "#solution 1:\n",
    "\n",
    "\n",
    "list1 = [1,2,3,4, [44,55,66, True], False, (34,56,78,89,34), {1,2,3,3,2,1}, \\\n",
    "         {1:34, \"key2\": [55, 67, 78, 89], 4: (45,22, 61, 34)}, [56, 'data science'], 'Machine Learning']\n",
    "\n",
    "def number_filter(l1):\n",
    "    from functools import reduce\n",
    "    n=[] \n",
    "    for i in l1:\n",
    "        if str(i).isnumeric(): \n",
    "            n.append(i)\n",
    "        elif type(i)==list or type(i)==tuple or type(i)== set : \n",
    "            for j in i:\n",
    "                if str(j).isnumeric():\n",
    "                    n.append(j)\n",
    "        elif type(i)== dict:\n",
    "            for k,v in i.items():\n",
    "                if str(k).isnumeric() :\n",
    "                    n.append(k)\n",
    "                if str(v).isnumeric():\n",
    "                    n.append(v)\n",
    "            for k,v in i.items():\n",
    "                if str(k).isnumeric()== False :\n",
    "                    if type(v)==list or type(v)== tuple:\n",
    "                        for u in v:\n",
    "                            if str(u).isnumeric():\n",
    "                                n.append(u)\n",
    "            for k,v in i.items():\n",
    "                if str(k).isnumeric()== True :\n",
    "                    if type(v)==list or type(v)== tuple:\n",
    "                        for u in v:\n",
    "                            if str(u).isnumeric():\n",
    "                                n.append(u)\n",
    "   \n",
    "                    \n",
    "                   \n",
    "                        \n",
    "                                \n",
    "#             \n",
    "    return(n) ,(reduce(lambda x,y: x*y, n))\n",
    "    \n",
    "\n",
    "m,result=number_filter(list1)\n",
    "print(\"The extracted list is\\n\",m)\n",
    "print(\"The Product of all numbers is::\\n\\n\",result)"
   ]
  },
  {
   "cell_type": "code",
   "execution_count": 3,
   "id": "5d3fecd8-8381-4d56-9e9b-dc5eb9c3420e",
   "metadata": {},
   "outputs": [
    {
     "name": "stdout",
     "output_type": "stream",
     "text": [
      "{'a': 97}\n",
      "{'b': 98}\n",
      "{'c': 99}\n",
      "{'d': 100}\n",
      "{'e': 101}\n",
      "{'f': 102}\n",
      "{'g': 103}\n",
      "{'h': 104}\n",
      "{'i': 105}\n",
      "{'j': 106}\n",
      "{'k': 107}\n",
      "{'l': 108}\n",
      "{'m': 109}\n",
      "{'n': 110}\n",
      "{'o': 111}\n",
      "{'p': 112}\n",
      "{'q': 113}\n",
      "{'r': 114}\n",
      "{'s': 115}\n",
      "{'u': 117}\n",
      "{'v': 118}\n",
      "{'w': 119}\n",
      "{'x': 120}\n",
      "{'y': 121}\n",
      "{'z': 122}\n"
     ]
    }
   ],
   "source": [
    "#solution 2:\n",
    "  \n",
    "    \n",
    "\n",
    "alpha_x=\"abcdefghijklmnopqrsuvwxyz\"\n",
    "for i in alpha_x:\n",
    "    print({i:ord(i)})"
   ]
  },
  {
   "cell_type": "code",
   "execution_count": 4,
   "id": "65a2c783-d91b-43ac-a558-74a29ac31ef1",
   "metadata": {},
   "outputs": [],
   "source": [
    "def encrypt_text(x):\n",
    "    x= x.lower() \n",
    "    \n",
    "    \n",
    "    \n",
    "    for i in x:\n",
    "        if i != \" \" :\n",
    "            if (ord(i)+26)>122:\n",
    "                e=122-ord(i) \n",
    "                x=x.replace(i,(chr(97+e)))\n",
    "            elif (ord(i)+25)<+122:\n",
    "                x=x.replace(i,(chr(97+26)))\n",
    "        \n",
    "        \n",
    "        \n",
    "            \n",
    "        else:\n",
    "            x=x.replace(\" \", \"$\") \n",
    "    x=x.replace(\"w\", 'd' )\n",
    "            \n",
    "    return x\n"
   ]
  },
  {
   "cell_type": "code",
   "execution_count": 5,
   "id": "615510b8-e451-4373-91d5-9bb9e90eeba3",
   "metadata": {},
   "outputs": [
    {
     "name": "stdout",
     "output_type": "stream",
     "text": [
      "{'a': 'z'}\n",
      "{'b': 'y'}\n",
      "{'c': 'x'}\n",
      "{'d': 'd'}\n",
      "{'e': 'v'}\n",
      "{'f': 'u'}\n",
      "{'g': 't'}\n",
      "{'h': 's'}\n",
      "{'i': 'r'}\n",
      "{'j': 'q'}\n",
      "{'k': 'p'}\n",
      "{'l': 'o'}\n",
      "{'m': 'n'}\n",
      "{'n': 'm'}\n",
      "{'o': 'l'}\n",
      "{'p': 'k'}\n",
      "{'q': 'j'}\n",
      "{'r': 'i'}\n",
      "{'s': 'h'}\n",
      "{'u': 'f'}\n",
      "{'v': 'e'}\n",
      "{'w': 'd'}\n",
      "{'x': 'c'}\n",
      "{'y': 'b'}\n",
      "{'z': 'a'}\n"
     ]
    }
   ],
   "source": [
    "for i in alpha_x:\n",
    "    print({i: encrypt_text(i)})"
   ]
  },
  {
   "cell_type": "code",
   "execution_count": 9,
   "id": "c7343a34-1908-4ab8-8cda-3cbe6147db14",
   "metadata": {},
   "outputs": [
    {
     "name": "stdin",
     "output_type": "stream",
     "text": [
      "text :  pwskills\n"
     ]
    },
    {
     "data": {
      "text/plain": [
       "'pdhprooh'"
      ]
     },
     "execution_count": 9,
     "metadata": {},
     "output_type": "execute_result"
    }
   ],
   "source": [
    "text= input(\"text : \") \n",
    "encrypt_text(text)"
   ]
  },
  {
   "cell_type": "code",
   "execution_count": null,
   "id": "ca4dcb18-5280-4d32-af8f-ed37b851c8e7",
   "metadata": {},
   "outputs": [],
   "source": []
  }
 ],
 "metadata": {
  "kernelspec": {
   "display_name": "Python 3 (ipykernel)",
   "language": "python",
   "name": "python3"
  },
  "language_info": {
   "codemirror_mode": {
    "name": "ipython",
    "version": 3
   },
   "file_extension": ".py",
   "mimetype": "text/x-python",
   "name": "python",
   "nbconvert_exporter": "python",
   "pygments_lexer": "ipython3",
   "version": "3.10.8"
  }
 },
 "nbformat": 4,
 "nbformat_minor": 5
}
